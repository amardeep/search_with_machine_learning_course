{
 "cells": [
  {
   "cell_type": "markdown",
   "metadata": {},
   "source": [
    "## Fasttext tutorial for unsupervised learning"
   ]
  },
  {
   "cell_type": "markdown",
   "metadata": {},
   "source": [
    "See [A Visual Guide to FastText Word Embeddings](https://amitness.com/2020/06/fasttext-embeddings/) for an introduction.\n",
    "\n",
    "Also see https://fasttext.cc/docs/en/unsupervised-tutorial.html"
   ]
  },
  {
   "cell_type": "markdown",
   "metadata": {},
   "source": [
    "We’ll use a small portion of text data extracted from English Wikipedia (50,000 random lines), which we’ve placed in data/wiki_sample.txt."
   ]
  },
  {
   "cell_type": "code",
   "execution_count": 3,
   "metadata": {},
   "outputs": [
    {
     "name": "stderr",
     "output_type": "stream",
     "text": [
      "+ wc -l /workspace/search_with_machine_learning_course/data/wiki_sample.txt\n"
     ]
    },
    {
     "name": "stdout",
     "output_type": "stream",
     "text": [
      "50000 /workspace/search_with_machine_learning_course/data/wiki_sample.txt\n"
     ]
    }
   ],
   "source": [
    "%%bash\n",
    "\n",
    "set -x\n",
    "wc -l /workspace/search_with_machine_learning_course/data/wiki_sample.txt"
   ]
  },
  {
   "cell_type": "code",
   "execution_count": 4,
   "metadata": {},
   "outputs": [
    {
     "name": "stderr",
     "output_type": "stream",
     "text": [
      "+ mkdir -p /workspace/fasttext-unsupervised\n",
      "+ cp /workspace/search_with_machine_learning_course/data/wiki_sample.txt /workspace/fasttext-unsupervised\n"
     ]
    }
   ],
   "source": [
    "%%bash\n",
    "set -x\n",
    "\n",
    "mkdir -p /workspace/fasttext-unsupervised\n",
    "cp /workspace/search_with_machine_learning_course/data/wiki_sample.txt /workspace/fasttext-unsupervised"
   ]
  },
  {
   "cell_type": "markdown",
   "metadata": {},
   "source": [
    "### Create unsupervised model"
   ]
  },
  {
   "cell_type": "markdown",
   "metadata": {},
   "source": [
    "This will create `wiki.bin` model file and `wiki.vec` file with words and their vectors.\n",
    "\n",
    "We’ve also used `-maxn 0` to exclude subword information. Subwords – that is, parts of words – can be very useful, especially for unknown or rare words, stemming variations, etc. But they can also introduce noise, and for this smallish dataset, we’re optimizing for simple, clean results.\n",
    "\n",
    "One useful parameter that we didn’t explore before is `-minCount`, which specified the minimum number of times a word must occur in the corpus to be included in the model. It defaults to 5, but setting a higher number (e.g., 50) will remove lots of misspellings and other rare words. Of course, setting it too high may remove words we would rather keep. Everything is a trade-off."
   ]
  },
  {
   "cell_type": "code",
   "execution_count": 6,
   "metadata": {},
   "outputs": [
    {
     "name": "stderr",
     "output_type": "stream",
     "text": [
      "+ fasttext skipgram -input wiki_sample.txt -output wiki -maxn 0\n",
      "Read 0M words\n",
      "Number of words:  9871\n",
      "Number of labels: 0\n",
      "Progress: 100.0% words/sec/thread:   99647 lr:  0.000000 avg.loss:  2.473000 ETA:   0h 0m 0s\n",
      "+ wc -l wiki.vec\n"
     ]
    },
    {
     "name": "stdout",
     "output_type": "stream",
     "text": [
      "9872 wiki.vec\n"
     ]
    }
   ],
   "source": [
    "%%bash\n",
    "cd /workspace/fasttext-unsupervised\n",
    "set -x\n",
    "\n",
    "fasttext skipgram -input wiki_sample.txt -output wiki -maxn 0\n",
    "wc -l wiki.vec"
   ]
  },
  {
   "cell_type": "markdown",
   "metadata": {},
   "source": [
    "### Nearest neighbors as synonyms"
   ]
  },
  {
   "cell_type": "markdown",
   "metadata": {},
   "source": [
    "The fastText library comes with a nearest-neighbor method that we can use to obtain synonyms.\n",
    "\n",
    "For running interactively, run\n",
    "\n",
    "`fasttext nn wiki.bin`"
   ]
  },
  {
   "cell_type": "code",
   "execution_count": 16,
   "metadata": {},
   "outputs": [
    {
     "name": "stdout",
     "output_type": "stream",
     "text": [
      "Query word? governors 0.881063\n",
      "municipal 0.877317\n",
      "offices 0.867158\n",
      "privy 0.866503\n",
      "constitutional 0.864229\n",
      "ministers 0.862625\n",
      "elections 0.8536\n",
      "approved 0.852035\n",
      "senators 0.851854\n",
      "cooperation 0.851632\n",
      "Query word? Query word? inputs 0.940591\n",
      "sampling 0.937156\n",
      "unix 0.936299\n",
      "compiler 0.934591\n",
      "random 0.933981\n",
      "kernel 0.93357\n",
      "java 0.93094\n",
      "files 0.929595\n",
      "ascii 0.926187\n",
      "behavior 0.924533\n",
      "Query word? "
     ]
    }
   ],
   "source": [
    "%%bash\n",
    "cd /workspace/fasttext-unsupervised\n",
    "\n",
    "echo \"politics\" | fasttext nn wiki.bin\n",
    "\n",
    "echo \"linux\" | fasttext nn wiki.bin"
   ]
  }
 ],
 "metadata": {
  "interpreter": {
   "hash": "26df649ccaabb3e088651436e95c10ce9770ac9f5e6ba35266fc22045cc9f233"
  },
  "kernelspec": {
   "display_name": "Python 3.9.10 ('.venv': poetry)",
   "language": "python",
   "name": "python3"
  },
  "language_info": {
   "codemirror_mode": {
    "name": "ipython",
    "version": 3
   },
   "file_extension": ".py",
   "mimetype": "text/x-python",
   "name": "python",
   "nbconvert_exporter": "python",
   "pygments_lexer": "ipython3",
   "version": "3.9.10"
  },
  "orig_nbformat": 4
 },
 "nbformat": 4,
 "nbformat_minor": 2
}
