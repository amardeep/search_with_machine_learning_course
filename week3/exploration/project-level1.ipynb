{
 "cells": [
  {
   "cell_type": "code",
   "execution_count": 1,
   "metadata": {},
   "outputs": [
    {
     "name": "stdout",
     "output_type": "stream",
     "text": [
      "/home/jupyter/.kaggle/datasets/fasttext\n"
     ]
    }
   ],
   "source": [
    "%cd /workspace/datasets/fasttext"
   ]
  },
  {
   "cell_type": "markdown",
   "metadata": {},
   "source": [
    "## Function to run category training experiment\n",
    "\n",
    "Keeps each run in its own directory depending on model params."
   ]
  },
  {
   "cell_type": "code",
   "execution_count": 2,
   "metadata": {},
   "outputs": [],
   "source": [
    "def run_exp(run_subdir = None, epochs=5, lr=0.1, ngrams=1, transform=False, min_products=0, max_depth=0):\n",
    "    import subprocess\n",
    "    from pathlib import Path\n",
    "\n",
    "    if run_subdir is None:\n",
    "        run_subdir = f\"run.e{epochs}.lr{lr}.ng{ngrams}.tr{int(transform)}.mp{min_products}.md{max_depth}\"\n",
    "    run_dir = Path(\"/workspace/datasets/fasttext/\") / run_subdir\n",
    "\n",
    "    script = \"/workspace/search_with_machine_learning_course/week3/createContentTrainingData.py\"\n",
    "    cmd1 = f\"python {script} prepare-input --run_subdir {run_subdir} --transform {transform} --min_products {min_products} --max_depth {max_depth}\"\n",
    "    print(f\"\\n+ {cmd1}\")\n",
    "    subprocess.run(cmd1, shell=True)\n",
    "\n",
    "    cmd2 = f\"fasttext supervised -input products.train -output model -epoch {epochs} -lr {lr} -wordNgrams {ngrams}\"\n",
    "    print(f\"\\n+ {cmd2}\")\n",
    "    subprocess.run(cmd2, shell=True, cwd=run_dir)\n",
    "\n",
    "    cmd3 = f\"fasttext test model.bin products.train\"\n",
    "    print(f\"\\n+ {cmd3}\")\n",
    "    subprocess.run(cmd3, shell=True, cwd=run_dir)\n",
    "\n",
    "    cmd4 = f\"fasttext test model.bin products.test\"\n",
    "    print(f\"\\n+ {cmd4}\")\n",
    "    subprocess.run(cmd4, shell=True, cwd=run_dir)\n",
    "\n",
    "    return run_dir\n"
   ]
  },
  {
   "cell_type": "markdown",
   "metadata": {},
   "source": [
    "### Base run with no parameters and no text preprocessing"
   ]
  },
  {
   "cell_type": "markdown",
   "metadata": {},
   "source": [
    "Precision on training data itself is < 15%. That suggest severe undertraining"
   ]
  },
  {
   "cell_type": "code",
   "execution_count": 3,
   "metadata": {},
   "outputs": [
    {
     "name": "stdout",
     "output_type": "stream",
     "text": [
      "\n",
      "+ python /workspace/search_with_machine_learning_course/week3/createContentTrainingData.py prepare-input --run_subdir . --transform False --min_products 0 --max_depth 0\n",
      "Reading df from /workspace/datasets/fasttext/pruned_products_df.pk\n",
      "min_products = 0: keeping 1952/1952 categories and 115358/115358 rows.\n",
      "Writing 10000 rows to /workspace/datasets/fasttext/products.train\n",
      "Writing 10000 rows to /workspace/datasets/fasttext/products.test\n",
      "\n",
      "+ fasttext supervised -input products.train -output model -epoch 5 -lr 0.1 -wordNgrams 1\n"
     ]
    },
    {
     "name": "stderr",
     "output_type": "stream",
     "text": [
      "Read 0M words\n",
      "Number of words:  11212\n",
      "Number of labels: 1358\n",
      "Progress: 100.0% words/sec/thread:   13726 lr:  0.000000 avg.loss: 13.185384 ETA:   0h 0m 0s\n"
     ]
    },
    {
     "name": "stdout",
     "output_type": "stream",
     "text": [
      "\n",
      "+ fasttext test model.bin products.train\n",
      "N\t10000\n",
      "P@1\t0.135\n",
      "R@1\t0.135\n",
      "\n",
      "+ fasttext test model.bin products.test\n",
      "N\t9705\n",
      "P@1\t0.141\n",
      "R@1\t0.141\n"
     ]
    },
    {
     "data": {
      "text/plain": [
       "PosixPath('/workspace/datasets/fasttext')"
      ]
     },
     "execution_count": 3,
     "metadata": {},
     "output_type": "execute_result"
    }
   ],
   "source": [
    "run_exp(run_subdir=\".\")"
   ]
  },
  {
   "cell_type": "markdown",
   "metadata": {},
   "source": [
    "## Experiments"
   ]
  },
  {
   "cell_type": "markdown",
   "metadata": {},
   "source": [
    "#### Epochs = 25"
   ]
  },
  {
   "cell_type": "code",
   "execution_count": 4,
   "metadata": {},
   "outputs": [
    {
     "name": "stdout",
     "output_type": "stream",
     "text": [
      "\n",
      "+ python /workspace/search_with_machine_learning_course/week3/createContentTrainingData.py prepare-input --run_subdir run.e25.lr0.1.ng1.tr0.mp0.md0 --transform False --min_products 0 --max_depth 0\n",
      "Reading df from /workspace/datasets/fasttext/pruned_products_df.pk\n",
      "min_products = 0: keeping 1952/1952 categories and 115358/115358 rows.\n",
      "Writing 10000 rows to /workspace/datasets/fasttext/run.e25.lr0.1.ng1.tr0.mp0.md0/products.train\n",
      "Writing 10000 rows to /workspace/datasets/fasttext/run.e25.lr0.1.ng1.tr0.mp0.md0/products.test\n",
      "\n",
      "+ fasttext supervised -input products.train -output model -epoch 25 -lr 0.1 -wordNgrams 1\n"
     ]
    },
    {
     "name": "stderr",
     "output_type": "stream",
     "text": [
      "Read 0M words\n",
      "Number of words:  11212\n",
      "Number of labels: 1358\n",
      "Progress: 100.0% words/sec/thread:   13633 lr:  0.000000 avg.loss:  6.268315 ETA:   0h 0m 0s\n"
     ]
    },
    {
     "name": "stdout",
     "output_type": "stream",
     "text": [
      "\n",
      "+ fasttext test model.bin products.train\n",
      "N\t10000\n",
      "P@1\t0.524\n",
      "R@1\t0.524\n",
      "\n",
      "+ fasttext test model.bin products.test\n",
      "N\t9705\n",
      "P@1\t0.458\n",
      "R@1\t0.458\n"
     ]
    },
    {
     "data": {
      "text/plain": [
       "PosixPath('/workspace/datasets/fasttext/run.e25.lr0.1.ng1.tr0.mp0.md0')"
      ]
     },
     "execution_count": 4,
     "metadata": {},
     "output_type": "execute_result"
    }
   ],
   "source": [
    "run_exp(epochs=25)"
   ]
  },
  {
   "cell_type": "markdown",
   "metadata": {},
   "source": [
    "#### Epochs = 25, LR = 1"
   ]
  },
  {
   "cell_type": "code",
   "execution_count": 5,
   "metadata": {},
   "outputs": [
    {
     "name": "stdout",
     "output_type": "stream",
     "text": [
      "\n",
      "+ python /workspace/search_with_machine_learning_course/week3/createContentTrainingData.py prepare-input --run_subdir run.e25.lr1.0.ng1.tr0.mp0.md0 --transform False --min_products 0 --max_depth 0\n",
      "Reading df from /workspace/datasets/fasttext/pruned_products_df.pk\n",
      "min_products = 0: keeping 1952/1952 categories and 115358/115358 rows.\n",
      "Writing 10000 rows to /workspace/datasets/fasttext/run.e25.lr1.0.ng1.tr0.mp0.md0/products.train\n",
      "Writing 10000 rows to /workspace/datasets/fasttext/run.e25.lr1.0.ng1.tr0.mp0.md0/products.test\n",
      "\n",
      "+ fasttext supervised -input products.train -output model -epoch 25 -lr 1.0 -wordNgrams 1\n"
     ]
    },
    {
     "name": "stderr",
     "output_type": "stream",
     "text": [
      "Read 0M words\n",
      "Number of words:  11212\n",
      "Number of labels: 1358\n",
      "Progress: 100.0% words/sec/thread:   13722 lr:  0.000000 avg.loss:  1.017911 ETA:   0h 0m 0s  2.3% words/sec/thread:   13559 lr:  0.976711 avg.loss: 13.188928 ETA:   0h 0m16s\n"
     ]
    },
    {
     "name": "stdout",
     "output_type": "stream",
     "text": [
      "\n",
      "+ fasttext test model.bin products.train\n",
      "N\t10000\n",
      "P@1\t0.995\n",
      "R@1\t0.995\n",
      "\n",
      "+ fasttext test model.bin products.test\n",
      "N\t9705\n",
      "P@1\t0.629\n",
      "R@1\t0.629\n"
     ]
    },
    {
     "data": {
      "text/plain": [
       "PosixPath('/workspace/datasets/fasttext/run.e25.lr1.0.ng1.tr0.mp0.md0')"
      ]
     },
     "execution_count": 5,
     "metadata": {},
     "output_type": "execute_result"
    }
   ],
   "source": [
    "run_exp(epochs=25, lr=1.0)"
   ]
  },
  {
   "cell_type": "markdown",
   "metadata": {},
   "source": [
    "#### Epochs=25, LR=1.0, Bigrams"
   ]
  },
  {
   "cell_type": "code",
   "execution_count": 6,
   "metadata": {},
   "outputs": [
    {
     "name": "stdout",
     "output_type": "stream",
     "text": [
      "\n",
      "+ python /workspace/search_with_machine_learning_course/week3/createContentTrainingData.py prepare-input --run_subdir run.e25.lr1.0.ng2.tr0.mp0.md0 --transform False --min_products 0 --max_depth 0\n",
      "Reading df from /workspace/datasets/fasttext/pruned_products_df.pk\n",
      "min_products = 0: keeping 1952/1952 categories and 115358/115358 rows.\n",
      "Writing 10000 rows to /workspace/datasets/fasttext/run.e25.lr1.0.ng2.tr0.mp0.md0/products.train\n",
      "Writing 10000 rows to /workspace/datasets/fasttext/run.e25.lr1.0.ng2.tr0.mp0.md0/products.test\n",
      "\n",
      "+ fasttext supervised -input products.train -output model -epoch 25 -lr 1.0 -wordNgrams 2\n"
     ]
    },
    {
     "name": "stderr",
     "output_type": "stream",
     "text": [
      "Read 0M words\n",
      "Number of words:  11212\n",
      "Number of labels: 1358\n",
      "Progress: 100.0% words/sec/thread:   13796 lr:  0.000000 avg.loss:  1.294458 ETA:   0h 0m 0s\n"
     ]
    },
    {
     "name": "stdout",
     "output_type": "stream",
     "text": [
      "\n",
      "+ fasttext test model.bin products.train\n",
      "N\t10000\n",
      "P@1\t0.995\n",
      "R@1\t0.995\n",
      "\n",
      "+ fasttext test model.bin products.test\n",
      "N\t9705\n",
      "P@1\t0.613\n",
      "R@1\t0.613\n"
     ]
    },
    {
     "data": {
      "text/plain": [
       "PosixPath('/workspace/datasets/fasttext/run.e25.lr1.0.ng2.tr0.mp0.md0')"
      ]
     },
     "execution_count": 6,
     "metadata": {},
     "output_type": "execute_result"
    }
   ],
   "source": [
    "run_exp(epochs=25, lr=1.0, ngrams=2)"
   ]
  },
  {
   "cell_type": "markdown",
   "metadata": {},
   "source": [
    "#### Epochs=25, LR=1.0, Bigrams, Analyzer"
   ]
  },
  {
   "cell_type": "code",
   "execution_count": 7,
   "metadata": {},
   "outputs": [
    {
     "name": "stdout",
     "output_type": "stream",
     "text": [
      "\n",
      "+ python /workspace/search_with_machine_learning_course/week3/createContentTrainingData.py prepare-input --run_subdir run.e25.lr1.0.ng2.tr1.mp0.md0 --transform True --min_products 0 --max_depth 0\n",
      "Reading df from /workspace/datasets/fasttext/pruned_products_df.pk\n",
      "min_products = 0: keeping 1952/1952 categories and 115358/115358 rows.\n",
      "Writing 10000 rows to /workspace/datasets/fasttext/run.e25.lr1.0.ng2.tr1.mp0.md0/products.train\n",
      "Writing 10000 rows to /workspace/datasets/fasttext/run.e25.lr1.0.ng2.tr1.mp0.md0/products.test\n",
      "\n",
      "+ fasttext supervised -input products.train -output model -epoch 25 -lr 1.0 -wordNgrams 2\n"
     ]
    },
    {
     "name": "stderr",
     "output_type": "stream",
     "text": [
      "Read 0M words\n",
      "Number of words:  9370\n",
      "Number of labels: 1358\n",
      "Progress: 100.0% words/sec/thread:   12011 lr:  0.000000 avg.loss:  1.140114 ETA:   0h 0m 0s\n"
     ]
    },
    {
     "name": "stdout",
     "output_type": "stream",
     "text": [
      "\n",
      "+ fasttext test model.bin products.train\n",
      "N\t10000\n",
      "P@1\t0.995\n",
      "R@1\t0.995\n",
      "\n",
      "+ fasttext test model.bin products.test\n",
      "N\t9705\n",
      "P@1\t0.623\n",
      "R@1\t0.623\n"
     ]
    },
    {
     "data": {
      "text/plain": [
       "PosixPath('/workspace/datasets/fasttext/run.e25.lr1.0.ng2.tr1.mp0.md0')"
      ]
     },
     "execution_count": 7,
     "metadata": {},
     "output_type": "execute_result"
    }
   ],
   "source": [
    "run_exp(epochs=25, lr=1.0, ngrams=2, transform=True)"
   ]
  },
  {
   "cell_type": "markdown",
   "metadata": {},
   "source": [
    "#### Epochs=25, LR=1.0, Bigrams, Analyzer, Min Products={50, 100, 150, 200}"
   ]
  },
  {
   "cell_type": "code",
   "execution_count": 8,
   "metadata": {},
   "outputs": [
    {
     "name": "stdout",
     "output_type": "stream",
     "text": [
      "\n",
      "+ python /workspace/search_with_machine_learning_course/week3/createContentTrainingData.py prepare-input --run_subdir run.e25.lr1.0.ng2.tr1.mp50.md0 --transform True --min_products 50 --max_depth 0\n",
      "Reading df from /workspace/datasets/fasttext/pruned_products_df.pk\n",
      "min_products = 50: keeping 520/1952 categories and 93126/115358 rows.\n",
      "Writing 10000 rows to /workspace/datasets/fasttext/run.e25.lr1.0.ng2.tr1.mp50.md0/products.train\n",
      "Writing 10000 rows to /workspace/datasets/fasttext/run.e25.lr1.0.ng2.tr1.mp50.md0/products.test\n",
      "\n",
      "+ fasttext supervised -input products.train -output model -epoch 25 -lr 1.0 -wordNgrams 2\n"
     ]
    },
    {
     "name": "stderr",
     "output_type": "stream",
     "text": [
      "Read 0M words\n",
      "Number of words:  8962\n",
      "Number of labels: 520\n",
      "Progress: 100.0% words/sec/thread:   29461 lr:  0.000000 avg.loss:  0.618399 ETA:   0h 0m 0s\n"
     ]
    },
    {
     "name": "stdout",
     "output_type": "stream",
     "text": [
      "\n",
      "+ fasttext test model.bin products.train\n",
      "N\t10000\n",
      "P@1\t0.994\n",
      "R@1\t0.994\n",
      "\n",
      "+ fasttext test model.bin products.test\n",
      "N\t10000\n",
      "P@1\t0.737\n",
      "R@1\t0.737\n"
     ]
    },
    {
     "data": {
      "text/plain": [
       "PosixPath('/workspace/datasets/fasttext/run.e25.lr1.0.ng2.tr1.mp50.md0')"
      ]
     },
     "execution_count": 8,
     "metadata": {},
     "output_type": "execute_result"
    }
   ],
   "source": [
    "run_exp(epochs=25, lr=1.0, ngrams=2, transform=True, min_products=50)"
   ]
  },
  {
   "cell_type": "code",
   "execution_count": 9,
   "metadata": {},
   "outputs": [
    {
     "name": "stdout",
     "output_type": "stream",
     "text": [
      "\n",
      "+ python /workspace/search_with_machine_learning_course/week3/createContentTrainingData.py prepare-input --run_subdir run.e25.lr1.0.ng2.tr1.mp100.md0 --transform True --min_products 100 --max_depth 0\n",
      "Reading df from /workspace/datasets/fasttext/pruned_products_df.pk\n",
      "min_products = 100: keeping 269/1952 categories and 75501/115358 rows.\n",
      "Writing 10000 rows to /workspace/datasets/fasttext/run.e25.lr1.0.ng2.tr1.mp100.md0/products.train\n",
      "Writing 10000 rows to /workspace/datasets/fasttext/run.e25.lr1.0.ng2.tr1.mp100.md0/products.test\n",
      "\n",
      "+ fasttext supervised -input products.train -output model -epoch 25 -lr 1.0 -wordNgrams 2\n"
     ]
    },
    {
     "name": "stderr",
     "output_type": "stream",
     "text": [
      "Read 0M words\n",
      "Number of words:  8360\n",
      "Number of labels: 269\n",
      "Progress: 100.0% words/sec/thread:   55138 lr:  0.000000 avg.loss:  0.306822 ETA:   0h 0m 0s\n"
     ]
    },
    {
     "name": "stdout",
     "output_type": "stream",
     "text": [
      "\n",
      "+ fasttext test model.bin products.train\n",
      "N\t10000\n",
      "P@1\t0.994\n",
      "R@1\t0.994\n",
      "\n",
      "+ fasttext test model.bin products.test\n",
      "N\t10000\n",
      "P@1\t0.814\n",
      "R@1\t0.814\n"
     ]
    },
    {
     "data": {
      "text/plain": [
       "PosixPath('/workspace/datasets/fasttext/run.e25.lr1.0.ng2.tr1.mp100.md0')"
      ]
     },
     "execution_count": 9,
     "metadata": {},
     "output_type": "execute_result"
    }
   ],
   "source": [
    "run_exp(epochs=25, lr=1.0, ngrams=2, transform=True, min_products=100)"
   ]
  },
  {
   "cell_type": "code",
   "execution_count": 10,
   "metadata": {},
   "outputs": [
    {
     "name": "stdout",
     "output_type": "stream",
     "text": [
      "\n",
      "+ python /workspace/search_with_machine_learning_course/week3/createContentTrainingData.py prepare-input --run_subdir run.e25.lr1.0.ng2.tr1.mp150.md0 --transform True --min_products 150 --max_depth 0\n",
      "Reading df from /workspace/datasets/fasttext/pruned_products_df.pk\n",
      "min_products = 150: keeping 168/1952 categories and 63188/115358 rows.\n",
      "Writing 10000 rows to /workspace/datasets/fasttext/run.e25.lr1.0.ng2.tr1.mp150.md0/products.train\n",
      "Writing 10000 rows to /workspace/datasets/fasttext/run.e25.lr1.0.ng2.tr1.mp150.md0/products.test\n",
      "\n",
      "+ fasttext supervised -input products.train -output model -epoch 25 -lr 1.0 -wordNgrams 2\n"
     ]
    },
    {
     "name": "stderr",
     "output_type": "stream",
     "text": [
      "Read 0M words\n",
      "Number of words:  7885\n",
      "Number of labels: 168\n",
      "Progress: 100.0% words/sec/thread:   85334 lr:  0.000000 avg.loss:  0.221674 ETA:   0h 0m 0s\n"
     ]
    },
    {
     "name": "stdout",
     "output_type": "stream",
     "text": [
      "\n",
      "+ fasttext test model.bin products.train\n",
      "N\t10000\n",
      "P@1\t0.992\n",
      "R@1\t0.992\n",
      "\n",
      "+ fasttext test model.bin products.test\n",
      "N\t10000\n",
      "P@1\t0.847\n",
      "R@1\t0.847\n"
     ]
    },
    {
     "data": {
      "text/plain": [
       "PosixPath('/workspace/datasets/fasttext/run.e25.lr1.0.ng2.tr1.mp150.md0')"
      ]
     },
     "execution_count": 10,
     "metadata": {},
     "output_type": "execute_result"
    }
   ],
   "source": [
    "run_exp(epochs=25, lr=1.0, ngrams=2, transform=True, min_products=150)"
   ]
  },
  {
   "cell_type": "code",
   "execution_count": 11,
   "metadata": {},
   "outputs": [
    {
     "name": "stdout",
     "output_type": "stream",
     "text": [
      "\n",
      "+ python /workspace/search_with_machine_learning_course/week3/createContentTrainingData.py prepare-input --run_subdir run.e25.lr1.0.ng2.tr1.mp200.md0 --transform True --min_products 200 --max_depth 0\n",
      "Reading df from /workspace/datasets/fasttext/pruned_products_df.pk\n",
      "min_products = 200: keeping 113/1952 categories and 53654/115358 rows.\n",
      "Writing 10000 rows to /workspace/datasets/fasttext/run.e25.lr1.0.ng2.tr1.mp200.md0/products.train\n",
      "Writing 10000 rows to /workspace/datasets/fasttext/run.e25.lr1.0.ng2.tr1.mp200.md0/products.test\n",
      "\n",
      "+ fasttext supervised -input products.train -output model -epoch 25 -lr 1.0 -wordNgrams 2\n"
     ]
    },
    {
     "name": "stderr",
     "output_type": "stream",
     "text": [
      "Read 0M words\n",
      "Number of words:  7390\n",
      "Number of labels: 113\n",
      "Progress: 100.0% words/sec/thread:  120549 lr:  0.000000 avg.loss:  0.147550 ETA:   0h 0m 0s100.0% words/sec/thread:  120554 lr: -0.000095 avg.loss:  0.147550 ETA:   0h 0m 0s\n"
     ]
    },
    {
     "name": "stdout",
     "output_type": "stream",
     "text": [
      "\n",
      "+ fasttext test model.bin products.train\n",
      "N\t10000\n",
      "P@1\t0.991\n",
      "R@1\t0.991\n",
      "\n",
      "+ fasttext test model.bin products.test\n",
      "N\t10000\n",
      "P@1\t0.89\n",
      "R@1\t0.89\n"
     ]
    },
    {
     "data": {
      "text/plain": [
       "PosixPath('/workspace/datasets/fasttext/run.e25.lr1.0.ng2.tr1.mp200.md0')"
      ]
     },
     "execution_count": 11,
     "metadata": {},
     "output_type": "execute_result"
    }
   ],
   "source": [
    "run_exp(epochs=25, lr=1.0, ngrams=2, transform=True, min_products=200)"
   ]
  },
  {
   "cell_type": "markdown",
   "metadata": {},
   "source": [
    "#### Epochs=25, LR=1.0, Bigrams, Analyzer, Min Products=50, Max Depth={1, 2, 3, 4}"
   ]
  },
  {
   "cell_type": "code",
   "execution_count": 12,
   "metadata": {},
   "outputs": [
    {
     "name": "stdout",
     "output_type": "stream",
     "text": [
      "\n",
      "+ python /workspace/search_with_machine_learning_course/week3/createContentTrainingData.py prepare-input --run_subdir run.e25.lr1.0.ng2.tr1.mp50.md1 --transform True --min_products 50 --max_depth 1\n",
      "Reading df from /workspace/datasets/fasttext/pruned_products_df.pk\n",
      "min_products = 50: keeping 520/1952 categories and 93126/115358 rows.\n",
      "max_depth=1: categories pruned from 508 to 1\n",
      "Writing 10000 rows to /workspace/datasets/fasttext/run.e25.lr1.0.ng2.tr1.mp50.md1/products.train\n",
      "Writing 10000 rows to /workspace/datasets/fasttext/run.e25.lr1.0.ng2.tr1.mp50.md1/products.test\n",
      "\n",
      "+ fasttext supervised -input products.train -output model -epoch 25 -lr 1.0 -wordNgrams 2\n"
     ]
    },
    {
     "name": "stderr",
     "output_type": "stream",
     "text": [
      "Read 0M words\n",
      "Number of words:  8900\n",
      "Number of labels: 1\n",
      "Progress: 100.0% words/sec/thread:  690027 lr:  0.000000 avg.loss:  0.000000 ETA:   0h 0m 0s\n"
     ]
    },
    {
     "name": "stdout",
     "output_type": "stream",
     "text": [
      "\n",
      "+ fasttext test model.bin products.train\n",
      "N\t10000\n",
      "P@1\t1\n",
      "R@1\t1\n",
      "\n",
      "+ fasttext test model.bin products.test\n",
      "N\t10000\n",
      "P@1\t1\n",
      "R@1\t1\n"
     ]
    },
    {
     "data": {
      "text/plain": [
       "PosixPath('/workspace/datasets/fasttext/run.e25.lr1.0.ng2.tr1.mp50.md1')"
      ]
     },
     "execution_count": 12,
     "metadata": {},
     "output_type": "execute_result"
    }
   ],
   "source": [
    "run_exp(epochs=25, lr=1.0, ngrams=2, transform=True, min_products=50, max_depth=1)"
   ]
  },
  {
   "cell_type": "code",
   "execution_count": 13,
   "metadata": {},
   "outputs": [
    {
     "name": "stdout",
     "output_type": "stream",
     "text": [
      "\n",
      "+ python /workspace/search_with_machine_learning_course/week3/createContentTrainingData.py prepare-input --run_subdir run.e25.lr1.0.ng2.tr1.mp50.md2 --transform True --min_products 50 --max_depth 2\n",
      "Reading df from /workspace/datasets/fasttext/pruned_products_df.pk\n",
      "min_products = 50: keeping 520/1952 categories and 93126/115358 rows.\n",
      "max_depth=2: categories pruned from 508 to 18\n",
      "Writing 10000 rows to /workspace/datasets/fasttext/run.e25.lr1.0.ng2.tr1.mp50.md2/products.train\n",
      "Writing 10000 rows to /workspace/datasets/fasttext/run.e25.lr1.0.ng2.tr1.mp50.md2/products.test\n",
      "\n",
      "+ fasttext supervised -input products.train -output model -epoch 25 -lr 1.0 -wordNgrams 2\n"
     ]
    },
    {
     "name": "stderr",
     "output_type": "stream",
     "text": [
      "Read 0M words\n",
      "Number of words:  8900\n",
      "Number of labels: 18\n",
      "Progress: 100.0% words/sec/thread:  345634 lr:  0.000000 avg.loss:  0.059191 ETA:   0h 0m 0s\n"
     ]
    },
    {
     "name": "stdout",
     "output_type": "stream",
     "text": [
      "\n",
      "+ fasttext test model.bin products.train\n",
      "N\t10000\n",
      "P@1\t0.999\n",
      "R@1\t0.999\n",
      "\n",
      "+ fasttext test model.bin products.test\n",
      "N\t10000\n",
      "P@1\t0.936\n",
      "R@1\t0.936\n"
     ]
    },
    {
     "data": {
      "text/plain": [
       "PosixPath('/workspace/datasets/fasttext/run.e25.lr1.0.ng2.tr1.mp50.md2')"
      ]
     },
     "execution_count": 13,
     "metadata": {},
     "output_type": "execute_result"
    }
   ],
   "source": [
    "run_exp(epochs=25, lr=1.0, ngrams=2, transform=True, min_products=50, max_depth=2)"
   ]
  },
  {
   "cell_type": "code",
   "execution_count": 14,
   "metadata": {},
   "outputs": [
    {
     "name": "stdout",
     "output_type": "stream",
     "text": [
      "\n",
      "+ python /workspace/search_with_machine_learning_course/week3/createContentTrainingData.py prepare-input --run_subdir run.e25.lr1.0.ng2.tr1.mp50.md3 --transform True --min_products 50 --max_depth 3\n",
      "Reading df from /workspace/datasets/fasttext/pruned_products_df.pk\n",
      "min_products = 50: keeping 520/1952 categories and 93126/115358 rows.\n",
      "max_depth=3: categories pruned from 508 to 110\n",
      "Writing 10000 rows to /workspace/datasets/fasttext/run.e25.lr1.0.ng2.tr1.mp50.md3/products.train\n",
      "Writing 10000 rows to /workspace/datasets/fasttext/run.e25.lr1.0.ng2.tr1.mp50.md3/products.test\n",
      "\n",
      "+ fasttext supervised -input products.train -output model -epoch 25 -lr 1.0 -wordNgrams 2\n"
     ]
    },
    {
     "name": "stderr",
     "output_type": "stream",
     "text": [
      "Read 0M words\n",
      "Number of words:  8900\n",
      "Number of labels: 110\n",
      "Progress: 100.0% words/sec/thread:  114345 lr:  0.000000 avg.loss:  0.075623 ETA:   0h 0m 0s\n"
     ]
    },
    {
     "name": "stdout",
     "output_type": "stream",
     "text": [
      "\n",
      "+ fasttext test model.bin products.train\n",
      "N\t10000\n",
      "P@1\t0.999\n",
      "R@1\t0.999\n",
      "\n",
      "+ fasttext test model.bin products.test\n",
      "N\t10000\n",
      "P@1\t0.915\n",
      "R@1\t0.915\n"
     ]
    },
    {
     "data": {
      "text/plain": [
       "PosixPath('/workspace/datasets/fasttext/run.e25.lr1.0.ng2.tr1.mp50.md3')"
      ]
     },
     "execution_count": 14,
     "metadata": {},
     "output_type": "execute_result"
    }
   ],
   "source": [
    "run_exp(epochs=25, lr=1.0, ngrams=2, transform=True, min_products=50, max_depth=3)"
   ]
  },
  {
   "cell_type": "code",
   "execution_count": 15,
   "metadata": {},
   "outputs": [
    {
     "name": "stdout",
     "output_type": "stream",
     "text": [
      "\n",
      "+ python /workspace/search_with_machine_learning_course/week3/createContentTrainingData.py prepare-input --run_subdir run.e25.lr1.0.ng2.tr1.mp50.md4 --transform True --min_products 50 --max_depth 4\n",
      "Reading df from /workspace/datasets/fasttext/pruned_products_df.pk\n",
      "min_products = 50: keeping 520/1952 categories and 93126/115358 rows.\n",
      "max_depth=4: categories pruned from 508 to 302\n",
      "Writing 10000 rows to /workspace/datasets/fasttext/run.e25.lr1.0.ng2.tr1.mp50.md4/products.train\n",
      "Writing 10000 rows to /workspace/datasets/fasttext/run.e25.lr1.0.ng2.tr1.mp50.md4/products.test\n",
      "\n",
      "+ fasttext supervised -input products.train -output model -epoch 25 -lr 1.0 -wordNgrams 2\n"
     ]
    },
    {
     "name": "stderr",
     "output_type": "stream",
     "text": [
      "Read 0M words\n",
      "Number of words:  8900\n",
      "Number of labels: 302\n",
      "Progress: 100.0% words/sec/thread:   48294 lr:  0.000000 avg.loss:  0.308843 ETA:   0h 0m 0s\n"
     ]
    },
    {
     "name": "stdout",
     "output_type": "stream",
     "text": [
      "\n",
      "+ fasttext test model.bin products.train\n",
      "N\t10000\n",
      "P@1\t0.998\n",
      "R@1\t0.998\n",
      "\n",
      "+ fasttext test model.bin products.test\n",
      "N\t10000\n",
      "P@1\t0.853\n",
      "R@1\t0.853\n"
     ]
    },
    {
     "data": {
      "text/plain": [
       "PosixPath('/workspace/datasets/fasttext/run.e25.lr1.0.ng2.tr1.mp50.md4')"
      ]
     },
     "execution_count": 15,
     "metadata": {},
     "output_type": "execute_result"
    }
   ],
   "source": [
    "run_exp(epochs=25, lr=1.0, ngrams=2, transform=True, min_products=50, max_depth=4)"
   ]
  }
 ],
 "metadata": {
  "interpreter": {
   "hash": "26df649ccaabb3e088651436e95c10ce9770ac9f5e6ba35266fc22045cc9f233"
  },
  "kernelspec": {
   "display_name": "Python 3.9.10 ('.venv': poetry)",
   "language": "python",
   "name": "python3"
  },
  "language_info": {
   "codemirror_mode": {
    "name": "ipython",
    "version": 3
   },
   "file_extension": ".py",
   "mimetype": "text/x-python",
   "name": "python",
   "nbconvert_exporter": "python",
   "pygments_lexer": "ipython3",
   "version": "3.9.10"
  },
  "orig_nbformat": 4
 },
 "nbformat": 4,
 "nbformat_minor": 2
}
