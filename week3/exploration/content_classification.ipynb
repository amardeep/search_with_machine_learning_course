{
 "cells": [
  {
   "cell_type": "markdown",
   "metadata": {},
   "source": [
    "## Fasttext tutorial"
   ]
  },
  {
   "cell_type": "code",
   "execution_count": null,
   "metadata": {},
   "outputs": [],
   "source": [
    "%%bash\n",
    "set -x\n",
    "# Create tutorial directory\n",
    "mkdir -p /workspace/fasttext-tutorial\n",
    "cd /workspace/fasttext-tutorial\n",
    "\n",
    "# Download data\n",
    "wget https://dl.fbaipublicfiles.com/fasttext/data/cooking.stackexchange.tar.gz\n",
    "tar xvzf cooking.stackexchange.tar.gz"
   ]
  },
  {
   "cell_type": "code",
   "execution_count": 5,
   "metadata": {},
   "outputs": [
    {
     "name": "stdout",
     "output_type": "stream",
     "text": [
      "15404 cooking.stackexchange.txt\n",
      "__label__sauce __label__cheese How much does potato starch affect a cheese sauce recipe?\n",
      "__label__food-safety __label__acidity Dangerous pathogens capable of growing in acidic environments\n",
      "__label__cast-iron __label__stove How do I cover up the white spots on my cast iron stove?\n",
      "__label__restaurant Michelin Three Star Restaurant; but if the chef is not there\n",
      "__label__knife-skills __label__dicing Without knife skills, how can I quickly and accurately dice vegetables?\n"
     ]
    }
   ],
   "source": [
    "%%bash\n",
    "cd /workspace/fasttext-tutorial\n",
    "wc -l cooking.stackexchange.txt\n",
    "head -n 5 cooking.stackexchange.txt"
   ]
  },
  {
   "cell_type": "markdown",
   "metadata": {},
   "source": [
    "### Create test and training sets"
   ]
  },
  {
   "cell_type": "code",
   "execution_count": 6,
   "metadata": {},
   "outputs": [],
   "source": [
    "%%bash\n",
    "cd /workspace/fasttext-tutorial\n",
    "head -n -3000 cooking.stackexchange.txt > cooking.train\n",
    "tail -3000 cooking.stackexchange.txt > cooking.test"
   ]
  },
  {
   "cell_type": "markdown",
   "metadata": {},
   "source": [
    "### Train classifier\n",
    "\n",
    "Run training on docs from file `cooking.train` and\n",
    "output trained model in file `model_cooking.bin`"
   ]
  },
  {
   "cell_type": "code",
   "execution_count": 7,
   "metadata": {},
   "outputs": [
    {
     "name": "stderr",
     "output_type": "stream",
     "text": [
      "Read 0M words\n",
      "Number of words:  14543\n",
      "Number of labels: 735\n",
      "Progress: 100.0% words/sec/thread:   25868 lr:  0.000000 avg.loss: 10.104228 ETA:   0h 0m 0s\n"
     ]
    }
   ],
   "source": [
    "%%bash\n",
    "cd /workspace/fasttext-tutorial\n",
    "fasttext supervised -input cooking.train -output model_cooking"
   ]
  },
  {
   "cell_type": "markdown",
   "metadata": {},
   "source": [
    "### Ad hoc prediction"
   ]
  },
  {
   "cell_type": "code",
   "execution_count": 14,
   "metadata": {},
   "outputs": [
    {
     "name": "stderr",
     "output_type": "stream",
     "text": [
      "+ echo 'How do I make sourdough?'\n",
      "+ fasttext predict model_cooking.bin -\n"
     ]
    },
    {
     "name": "stdout",
     "output_type": "stream",
     "text": [
      "__label__baking\n"
     ]
    }
   ],
   "source": [
    "%%bash\n",
    "cd /workspace/fasttext-tutorial\n",
    "set -x \n",
    "echo \"How do I make sourdough?\" | fasttext predict model_cooking.bin -"
   ]
  },
  {
   "cell_type": "markdown",
   "metadata": {},
   "source": [
    "### Test model\n",
    "\n",
    "Run predictions on data in `cooking.test`"
   ]
  },
  {
   "cell_type": "code",
   "execution_count": 15,
   "metadata": {},
   "outputs": [
    {
     "name": "stdout",
     "output_type": "stream",
     "text": [
      "N\t3000\n",
      "P@1\t0.14\n",
      "R@1\t0.0605\n"
     ]
    }
   ],
   "source": [
    "%%bash\n",
    "cd /workspace/fasttext-tutorial\n",
    "fasttext test model_cooking.bin cooking.test"
   ]
  },
  {
   "cell_type": "markdown",
   "metadata": {},
   "source": [
    "In one run, the values were:\n",
    "```\n",
    "N\t3000\n",
    "P@1\t0.14\n",
    "R@1\t0.0605\n",
    "```\n",
    "\n",
    "- N = 3000 is the number of documents on which model was run.\n",
    "- P@1 = 0.14 (Precision at 1 = 14%) is the fraction of times top predicted label is correct one.\n",
    "- R@1 = .0605 is recall. It is lower as a a document can have multiple labels.\n"
   ]
  },
  {
   "cell_type": "markdown",
   "metadata": {},
   "source": [
    "#### Predict more than on label\n",
    "\n",
    "We can ask fastText to predict more than just the single most likely label for each document. Let’s try asking for the top 5:"
   ]
  },
  {
   "cell_type": "code",
   "execution_count": 16,
   "metadata": {},
   "outputs": [
    {
     "name": "stdout",
     "output_type": "stream",
     "text": [
      "N\t3000\n",
      "P@5\t0.0687\n",
      "R@5\t0.149\n"
     ]
    }
   ],
   "source": [
    "%%bash\n",
    "cd /workspace/fasttext-tutorial\n",
    "fasttext test model_cooking.bin cooking.test 5"
   ]
  },
  {
   "cell_type": "markdown",
   "metadata": {},
   "source": [
    "In one run, the values were:\n",
    "```\n",
    "N\t3000\n",
    "P@5\t0.0687\n",
    "R@5\t0.149\n",
    "```\n",
    "\n",
    "Recall has improved. But now it is predicting labels which do not\n",
    "match labels in test data, so precision has gone down."
   ]
  },
  {
   "cell_type": "markdown",
   "metadata": {},
   "source": [
    "### Tune analyzer\n",
    "\n",
    "Let's preprocess the input to:\n",
    "- Convert doc to lowercase\n",
    "- Separate punctuation with spaces.\n",
    "This will return in a different tokenization\n"
   ]
  },
  {
   "cell_type": "code",
   "execution_count": 18,
   "metadata": {},
   "outputs": [
    {
     "name": "stderr",
     "output_type": "stream",
     "text": [
      "+ cat cooking.stackexchange.txt\n",
      "+ sed -e 's/\\([.\\!?,'\\''/()]\\)/ \\1 /g'\n",
      "+ tr '[:upper:]' '[:lower:]'\n",
      "+ head -n -3000 cooking.preprocessed.txt\n",
      "+ tail -n 3000 cooking.preprocessed.txt\n",
      "+ head -n 5 cooking.preprocessed.txt\n"
     ]
    },
    {
     "name": "stdout",
     "output_type": "stream",
     "text": [
      "__label__sauce __label__cheese how much does potato starch affect a cheese sauce recipe ? \n",
      "__label__food-safety __label__acidity dangerous pathogens capable of growing in acidic environments\n",
      "__label__cast-iron __label__stove how do i cover up the white spots on my cast iron stove ? \n",
      "__label__restaurant michelin three star restaurant; but if the chef is not there\n",
      "__label__knife-skills __label__dicing without knife skills ,  how can i quickly and accurately dice vegetables ? \n"
     ]
    }
   ],
   "source": [
    "%%bash\n",
    "cd /workspace/fasttext-tutorial\n",
    "set -x\n",
    "cat cooking.stackexchange.txt | sed -e \"s/\\([.\\!?,'/()]\\)/ \\1 /g\" | tr \"[:upper:]\" \"[:lower:]\" > cooking.preprocessed.txt\n",
    "head -n -3000 cooking.preprocessed.txt > cooking.pp.train\n",
    "tail -n 3000 cooking.preprocessed.txt > cooking.pp.test\n",
    "head -n 5 cooking.preprocessed.txt"
   ]
  },
  {
   "cell_type": "code",
   "execution_count": 19,
   "metadata": {},
   "outputs": [
    {
     "name": "stderr",
     "output_type": "stream",
     "text": [
      "+ fasttext supervised -input cooking.pp.train -output model_cooking.pp\n",
      "Read 0M words\n",
      "Number of words:  8952\n",
      "Number of labels: 735\n",
      "Progress: 100.0% words/sec/thread:   27770 lr:  0.000000 avg.loss:  9.869978 ETA:   0h 0m 0s\n",
      "+ fasttext test model_cooking.pp.bin cooking.pp.test\n"
     ]
    },
    {
     "name": "stdout",
     "output_type": "stream",
     "text": [
      "N\t3000\n",
      "P@1\t0.165\n",
      "R@1\t0.0712\n"
     ]
    }
   ],
   "source": [
    "%%bash\n",
    "cd /workspace/fasttext-tutorial\n",
    "set -x\n",
    "\n",
    "fasttext supervised -input cooking.pp.train -output model_cooking.pp\n",
    "fasttext test model_cooking.pp.bin cooking.pp.test"
   ]
  },
  {
   "cell_type": "markdown",
   "metadata": {},
   "source": [
    "### Increase number of epochs\n",
    "\n",
    "By default, fastText performs 5 epochs. Since we don’t have that much training data, let’s try increasing the number of epochs to 25."
   ]
  },
  {
   "cell_type": "code",
   "execution_count": 20,
   "metadata": {},
   "outputs": [
    {
     "name": "stderr",
     "output_type": "stream",
     "text": [
      "+ fasttext supervised -input cooking.pp.train -output model_cooking.e25 -epoch 25\n",
      "Read 0M words\n",
      "Number of words:  8952\n",
      "Number of labels: 735\n",
      "Progress: 100.0% words/sec/thread:   27926 lr:  0.000000 avg.loss:  7.106458 ETA:   0h 0m 0s\n",
      "+ fasttext test model_cooking.e25.bin cooking.pp.test\n"
     ]
    },
    {
     "name": "stdout",
     "output_type": "stream",
     "text": [
      "N\t3000\n",
      "P@1\t0.517\n",
      "R@1\t0.223\n"
     ]
    }
   ],
   "source": [
    "%%bash\n",
    "cd /workspace/fasttext-tutorial\n",
    "set -x\n",
    "\n",
    "fasttext supervised -input cooking.pp.train -output model_cooking.e25 -epoch 25\n",
    "fasttext test model_cooking.e25.bin cooking.pp.test"
   ]
  },
  {
   "cell_type": "markdown",
   "metadata": {},
   "source": [
    "In one run, the output was:\n",
    "```\n",
    "N\t3000\n",
    "P@1\t0.517\n",
    "R@1\t0.223\n",
    "```\n",
    "\n",
    "This is a huge improvement from original P@1 of 14% to 51.7%"
   ]
  },
  {
   "cell_type": "markdown",
   "metadata": {},
   "source": [
    "### Trying with 100 epochs"
   ]
  },
  {
   "cell_type": "code",
   "execution_count": 21,
   "metadata": {},
   "outputs": [
    {
     "name": "stderr",
     "output_type": "stream",
     "text": [
      "+ fasttext supervised -input cooking.pp.train -output model_cooking.e100 -epoch 100\n",
      "Read 0M words\n",
      "Number of words:  8952\n",
      "Number of labels: 735\n",
      "Progress: 100.0% words/sec/thread:   28450 lr:  0.000000 avg.loss:  3.251314 ETA:   0h 0m 0s\n",
      "+ fasttext test model_cooking.e100.bin cooking.pp.test\n"
     ]
    },
    {
     "name": "stdout",
     "output_type": "stream",
     "text": [
      "N\t3000\n",
      "P@1\t0.543\n",
      "R@1\t0.235\n"
     ]
    }
   ],
   "source": [
    "%%bash\n",
    "cd /workspace/fasttext-tutorial\n",
    "set -x\n",
    "\n",
    "fasttext supervised -input cooking.pp.train -output model_cooking.e100 -epoch 100\n",
    "fasttext test model_cooking.e100.bin cooking.pp.test"
   ]
  },
  {
   "cell_type": "markdown",
   "metadata": {},
   "source": [
    "P@1 moved from 51.7% to 54.3%, but we’re clearly facing diminishing returns.\n",
    "Increasing the number of epochs can only get you so far. You’re squeezing\n",
    "as much signal as you can from the training data by repeatedly iterating\n",
    "through it, but ultimately you run out of juice."
   ]
  },
  {
   "cell_type": "markdown",
   "metadata": {},
   "source": [
    "### Changing the learning rate\n",
    "\n",
    "The learning rate, a real number that should be set between 0 and 1, determines how quickly the model adjusts to each example it encounters in the training data. A learning rate of 0 would mean that the model doesn’t learn at all, while a learning rate of 1 means that the model reacts strongly to each example. fastText sets the default learning rate to 0.1, but let’s try raising it to 1.0 (and keeping the 25 epochs) to see what happens:"
   ]
  },
  {
   "cell_type": "code",
   "execution_count": 22,
   "metadata": {},
   "outputs": [
    {
     "name": "stderr",
     "output_type": "stream",
     "text": [
      "+ fasttext supervised -input cooking.pp.train -output model_cooking.lr10 -lr 1.0 -epoch 25\n",
      "Read 0M words\n",
      "Number of words:  8952\n",
      "Number of labels: 735\n",
      "Progress: 100.0% words/sec/thread:   29137 lr:  0.000000 avg.loss:  4.510390 ETA:   0h 0m 0s\n",
      "+ fasttext test model_cooking.lr10.bin cooking.pp.test\n"
     ]
    },
    {
     "name": "stdout",
     "output_type": "stream",
     "text": [
      "N\t3000\n",
      "P@1\t0.589\n",
      "R@1\t0.255\n"
     ]
    },
    {
     "name": "stderr",
     "output_type": "stream",
     "text": [
      "+ fasttext supervised -input cooking.pp.train -output model_cooking.lr05 -lr 0.5 -epoch 25\n",
      "Read 0M words\n",
      "Number of words:  8952\n",
      "Number of labels: 735\n",
      "Progress: 100.0% words/sec/thread:   29123 lr:  0.000000 avg.loss:  3.606066 ETA:   0h 0m 0s\n",
      "+ fasttext test model_cooking.lr05.bin cooking.pp.test\n"
     ]
    },
    {
     "name": "stdout",
     "output_type": "stream",
     "text": [
      "N\t3000\n",
      "P@1\t0.572\n",
      "R@1\t0.248\n"
     ]
    }
   ],
   "source": [
    "%%bash\n",
    "cd /workspace/fasttext-tutorial\n",
    "set -x\n",
    "\n",
    "fasttext supervised -input cooking.pp.train -output model_cooking.lr10 -lr 1.0 -epoch 25\n",
    "fasttext test model_cooking.lr10.bin cooking.pp.test\n",
    "\n",
    "fasttext supervised -input cooking.pp.train -output model_cooking.lr05 -lr 0.5 -epoch 25\n",
    "fasttext test model_cooking.lr05.bin cooking.pp.test"
   ]
  },
  {
   "cell_type": "markdown",
   "metadata": {},
   "source": [
    "Now we’re at ~ 59% precision. Not too shabby! You can experiment with different values of the learning rate and number of epochs to see what happens. Unfortunately, manually tuning parameters like these is a bit of a dark art, which is why it’s better to let a machine do it for you by performing automatic hyperparameter optimization."
   ]
  },
  {
   "cell_type": "markdown",
   "metadata": {},
   "source": [
    "### Using bigrams\n",
    "\n",
    "While fastText normally learns from individual tokens, it can also pay attention to ngrams – that is, sequences of two or more tokens. Bigrams are especially useful for content understanding, since a two-word phrase (e.g., “machine learning”) often denotes a single concept that is not just the sum of the two words."
   ]
  },
  {
   "cell_type": "code",
   "execution_count": 23,
   "metadata": {},
   "outputs": [
    {
     "name": "stderr",
     "output_type": "stream",
     "text": [
      "+ fasttext supervised -input cooking.pp.train -output model_cooking.bigrams -lr 1.0 -epoch 25 -wordNgrams 2\n",
      "Read 0M words\n",
      "Number of words:  8952\n",
      "Number of labels: 735\n",
      "Progress: 100.0% words/sec/thread:   29131 lr:  0.000000 avg.loss:  3.151454 ETA:   0h 0m 0s\n",
      "+ fasttext test model_cooking.bigrams.bin cooking.pp.test\n"
     ]
    },
    {
     "name": "stdout",
     "output_type": "stream",
     "text": [
      "N\t3000\n",
      "P@1\t0.613\n",
      "R@1\t0.265\n"
     ]
    }
   ],
   "source": [
    "%%bash\n",
    "cd /workspace/fasttext-tutorial\n",
    "set -x\n",
    "\n",
    "fasttext supervised -input cooking.pp.train -output model_cooking.bigrams -lr 1.0 -epoch 25 -wordNgrams 2\n",
    "fasttext test model_cooking.bigrams.bin cooking.pp.test"
   ]
  }
 ],
 "metadata": {
  "interpreter": {
   "hash": "26df649ccaabb3e088651436e95c10ce9770ac9f5e6ba35266fc22045cc9f233"
  },
  "kernelspec": {
   "display_name": "Python 3.9.10 ('.venv': poetry)",
   "language": "python",
   "name": "python3"
  },
  "language_info": {
   "codemirror_mode": {
    "name": "ipython",
    "version": 3
   },
   "file_extension": ".py",
   "mimetype": "text/x-python",
   "name": "python",
   "nbconvert_exporter": "python",
   "pygments_lexer": "ipython3",
   "version": "3.9.10"
  },
  "orig_nbformat": 4
 },
 "nbformat": 4,
 "nbformat_minor": 2
}
