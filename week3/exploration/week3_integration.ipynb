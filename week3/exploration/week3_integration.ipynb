{
 "cells": [
  {
   "cell_type": "markdown",
   "id": "d18eeb10",
   "metadata": {},
   "source": [
    "## Setup"
   ]
  },
  {
   "cell_type": "code",
   "execution_count": null,
   "id": "fc474d54",
   "metadata": {},
   "outputs": [],
   "source": [
    "%load_ext rich"
   ]
  },
  {
   "cell_type": "code",
   "execution_count": 65,
   "id": "bbd6fe54",
   "metadata": {},
   "outputs": [],
   "source": [
    "import json\n",
    "import nltk\n",
    "import rich\n",
    "from rich import print as rprint\n",
    "from rich.pretty import pprint\n",
    "from opensearchpy import OpenSearch\n"
   ]
  },
  {
   "cell_type": "code",
   "execution_count": null,
   "id": "5c76aeec",
   "metadata": {},
   "outputs": [],
   "source": [
    "# Nltk setup\n",
    "nltk.download(\"words\")\n",
    "nltk.download(\"maxent_ne_chunker\")\n",
    "nltk.download(\"punkt\")\n",
    "nltk.download(\"averaged_perceptron_tagger\")\n",
    "nltk.download(\"popular\")\n",
    "nltk.download(\"tagsets\")"
   ]
  },
  {
   "cell_type": "markdown",
   "id": "104aefd5",
   "metadata": {},
   "source": [
    "### Create opensearch client"
   ]
  },
  {
   "cell_type": "code",
   "execution_count": 67,
   "id": "b66006e1",
   "metadata": {},
   "outputs": [],
   "source": [
    "host = \"localhost\"\n",
    "port = 9200\n",
    "auth = (\"admin\", \"admin\")  # For testing only. Don't store credentials in code.\n",
    "\n",
    "# Create the client with SSL/TLS enabled, but hostname and certificate verification disabled.\n",
    "client = OpenSearch(\n",
    "    hosts=[{\"host\": host, \"port\": port}],\n",
    "    http_compress=True,\n",
    "    http_auth=auth,\n",
    "    use_ssl=True,\n",
    "    verify_certs=False,\n",
    "    ssl_assert_hostname=False,\n",
    "    ssl_show_warn=False,\n",
    ")\n"
   ]
  },
  {
   "cell_type": "markdown",
   "id": "10dee981",
   "metadata": {},
   "source": [
    "### Create test index"
   ]
  },
  {
   "cell_type": "code",
   "execution_count": 68,
   "id": "9d8dfea7",
   "metadata": {},
   "outputs": [],
   "source": [
    "index_name = \"searchml_week3\"\n",
    "\n",
    "index_body = {\n",
    "    \"settings\": {\n",
    "        \"analysis\": {\n",
    "            \"filter\": {\n",
    "                \"pos_filter\": {\n",
    "                    \"type\": \"pattern_capture\",\n",
    "                    \"preserve_original\": True,\n",
    "                    \"patterns\": [\"(.*)#(.*)\"],\n",
    "                }\n",
    "            },\n",
    "            \"analyzer\": {\n",
    "                \"body_pos\": {\n",
    "                    \"tokenizer\": \"whitespace\",  # we can't use standard b/c it strips or delimiters\n",
    "                    \"filter\": [\"pos_filter\", \"lowercase\"],  # put whatever else here\n",
    "                },\n",
    "                \"body_pos_search\": {\n",
    "                    \"tokenizer\": \"whitespace\",  # we can't use standard b/c it strips or delimiters\n",
    "                    \"filter\": [\"lowercase\"],  # put whatever else here\n",
    "                },\n",
    "            },\n",
    "        },\n",
    "        \"index\": {\"query\": {\"default_field\": \"body\"}},\n",
    "    },\n",
    "    \"mappings\": {\n",
    "        \"properties\": {\n",
    "            \"title\": {\"type\": \"text\", \"analyzer\": \"english\"},\n",
    "            \"body\": {\"type\": \"text\", \"analyzer\": \"english\"},\n",
    "            \"body_sentences\": {\"type\": \"text\", \"analyzer\": \"english\"},\n",
    "            # Notice the different search analyzer\n",
    "            \"body_pos\": {\n",
    "                \"type\": \"text\",\n",
    "                \"analyzer\": \"body_pos\",\n",
    "                \"search_analyzer\": \"body_pos_search\",\n",
    "            },\n",
    "            \"body_ne\": {\"type\": \"text\", \"analyzer\": \"standard\"},\n",
    "            \"in_stock\": {\"type\": \"boolean\"},\n",
    "            \"category\": {\"type\": \"keyword\", \"ignore_above\": \"256\"},\n",
    "            \"price\": {\"type\": \"float\"},\n",
    "        }\n",
    "    },\n",
    "}\n",
    "\n",
    "try:\n",
    "    client.indices.delete(index_name)\n",
    "except:\n",
    "    pass\n",
    "client.indices.create(index_name, body=index_body)\n",
    "\n",
    "# Add our sample document to the index.\n",
    "docs = [\n",
    "    {\n",
    "        \"id\": \"doc_b\",\n",
    "        \"title\": \"Wayne Gretzky\",\n",
    "        \"body\": \"The greatest hockey player of all time is Wayne Gretzky. He holds a record for holding the most records!  Who else even comes close?\",\n",
    "        \"price\": \"15.13\",\n",
    "        \"in_stock\": True,\n",
    "        \"category\": \"sports\",\n",
    "    },\n",
    "    {\n",
    "        \"id\": \"doc_a\",\n",
    "        \"title\": \"Apple iPhone 13\",\n",
    "        \"body\": \"The all new Apple iPhone 13 has 3 cameras and the fastest chip on the market.  The phone retails for $699 for 64GB of storage.\",\n",
    "        \"price\": \"5.99\",\n",
    "        \"in_stock\": True,\n",
    "        \"category\": \"childrens\",\n",
    "    },\n",
    "    {\n",
    "        \"id\": \"doc_c\",\n",
    "        \"title\": \"Lead Paint Removal\",\n",
    "        \"body\": \"All lead must be removed from the brown and red paint.  Use the Glidden Lead Paint Killer solvent to keep the paint, but remove the lead!\",\n",
    "        \"price\": \"150.21\",\n",
    "        \"in_stock\": False,\n",
    "        \"category\": \"instructional\",\n",
    "    },\n",
    "    {\n",
    "        \"id\": \"doc_d\",\n",
    "        \"title\": \"The Three Little Pigs Revisted\",\n",
    "        \"price\": \"3.51\",\n",
    "        \"in_stock\": True,\n",
    "        \"body\": \"The big, bad wolf huffed and puffed and blew the house down. The end.  Well, not quite.  It seems the pigs filed an injunction against the wolf and now the wolf has to pay restitution.\",\n",
    "        \"category\": \"childrens\",\n",
    "    },\n",
    "    {\n",
    "        \"id\": \"doc_e\",\n",
    "        \"title\": \"Green apples and Spam\",\n",
    "        \"price\": \"2.99\",\n",
    "        \"in_stock\": True,\n",
    "        \"body\": \"The little green apple fell from the tree.  It was not a bad apple, so no one could understand why it fell.\",\n",
    "        \"category\": \"childrens\",\n",
    "    },\n",
    "    {\n",
    "        \"id\": \"doc_f\",\n",
    "        \"title\": \"Fun with Spans\",\n",
    "        \"price\": \"4.99\",\n",
    "        \"in_stock\": True,\n",
    "        \"body\": \"Dan is the President. The United States Government has arrested him.\",\n",
    "        \"category\": \"childrens\",\n",
    "    },\n",
    "]\n"
   ]
  },
  {
   "cell_type": "markdown",
   "id": "36e4959f",
   "metadata": {
    "cell_marker": "#######################"
   },
   "source": [
    "## Using nltk"
   ]
  },
  {
   "cell_type": "markdown",
   "id": "2b9dde6a",
   "metadata": {},
   "source": [
    "### Exploring nltk tokenizer and pos tagger"
   ]
  },
  {
   "cell_type": "code",
   "execution_count": 69,
   "id": "31a46fcc",
   "metadata": {},
   "outputs": [
    {
     "data": {
      "text/html": [
       "<pre style=\"white-space:pre;overflow-x:auto;line-height:normal;font-family:Menlo,'DejaVu Sans Mono',consolas,'Courier New',monospace\">Text: Apple's iPhone <span style=\"color: #008080; text-decoration-color: #008080; font-weight: bold\">13</span> has <span style=\"color: #008080; text-decoration-color: #008080; font-weight: bold\">3</span> cameras and the fastest chip on the market.  The phone retails \n",
       "for $<span style=\"color: #008080; text-decoration-color: #008080; font-weight: bold\">699</span> for 64GB of storage.\n",
       "</pre>\n"
      ],
      "text/plain": [
       "Text: Apple's iPhone \u001b[1;36m13\u001b[0m has \u001b[1;36m3\u001b[0m cameras and the fastest chip on the market.  The phone retails \n",
       "for $\u001b[1;36m699\u001b[0m for 64GB of storage.\n"
      ]
     },
     "metadata": {},
     "output_type": "display_data"
    },
    {
     "data": {
      "text/html": [
       "<pre style=\"white-space:pre;overflow-x:auto;line-height:normal;font-family:Menlo,'DejaVu Sans Mono',consolas,'Courier New',monospace\">Tokens: <span style=\"font-weight: bold\">[</span><span style=\"color: #008000; text-decoration-color: #008000\">'Apple'</span>, <span style=\"color: #008000; text-decoration-color: #008000\">\"'s\"</span>, <span style=\"color: #008000; text-decoration-color: #008000\">'iPhone'</span>, <span style=\"color: #008000; text-decoration-color: #008000\">'13'</span>, <span style=\"color: #008000; text-decoration-color: #008000\">'has'</span>, <span style=\"color: #008000; text-decoration-color: #008000\">'3'</span>, <span style=\"color: #008000; text-decoration-color: #008000\">'cameras'</span>, <span style=\"color: #008000; text-decoration-color: #008000\">'and'</span>, <span style=\"color: #008000; text-decoration-color: #008000\">'the'</span>, <span style=\"color: #008000; text-decoration-color: #008000\">'fastest'</span>, \n",
       "<span style=\"color: #008000; text-decoration-color: #008000\">'chip'</span>, <span style=\"color: #008000; text-decoration-color: #008000\">'on'</span>, <span style=\"color: #008000; text-decoration-color: #008000\">'the'</span>, <span style=\"color: #008000; text-decoration-color: #008000\">'market'</span>, <span style=\"color: #008000; text-decoration-color: #008000\">'.'</span>, <span style=\"color: #008000; text-decoration-color: #008000\">'The'</span>, <span style=\"color: #008000; text-decoration-color: #008000\">'phone'</span>, <span style=\"color: #008000; text-decoration-color: #008000\">'retails'</span>, <span style=\"color: #008000; text-decoration-color: #008000\">'for'</span>, <span style=\"color: #008000; text-decoration-color: #008000\">'$'</span>, <span style=\"color: #008000; text-decoration-color: #008000\">'699'</span>, <span style=\"color: #008000; text-decoration-color: #008000\">'for'</span>, \n",
       "<span style=\"color: #008000; text-decoration-color: #008000\">'64GB'</span>, <span style=\"color: #008000; text-decoration-color: #008000\">'of'</span>, <span style=\"color: #008000; text-decoration-color: #008000\">'storage'</span>, <span style=\"color: #008000; text-decoration-color: #008000\">'.'</span><span style=\"font-weight: bold\">]</span>\n",
       "</pre>\n"
      ],
      "text/plain": [
       "Tokens: \u001b[1m[\u001b[0m\u001b[32m'Apple'\u001b[0m, \u001b[32m\"'s\"\u001b[0m, \u001b[32m'iPhone'\u001b[0m, \u001b[32m'13'\u001b[0m, \u001b[32m'has'\u001b[0m, \u001b[32m'3'\u001b[0m, \u001b[32m'cameras'\u001b[0m, \u001b[32m'and'\u001b[0m, \u001b[32m'the'\u001b[0m, \u001b[32m'fastest'\u001b[0m, \n",
       "\u001b[32m'chip'\u001b[0m, \u001b[32m'on'\u001b[0m, \u001b[32m'the'\u001b[0m, \u001b[32m'market'\u001b[0m, \u001b[32m'.'\u001b[0m, \u001b[32m'The'\u001b[0m, \u001b[32m'phone'\u001b[0m, \u001b[32m'retails'\u001b[0m, \u001b[32m'for'\u001b[0m, \u001b[32m'$'\u001b[0m, \u001b[32m'699'\u001b[0m, \u001b[32m'for'\u001b[0m, \n",
       "\u001b[32m'64GB'\u001b[0m, \u001b[32m'of'\u001b[0m, \u001b[32m'storage'\u001b[0m, \u001b[32m'.'\u001b[0m\u001b[1m]\u001b[0m\n"
      ]
     },
     "metadata": {},
     "output_type": "display_data"
    },
    {
     "data": {
      "text/html": [
       "<pre style=\"white-space:pre;overflow-x:auto;line-height:normal;font-family:Menlo,'DejaVu Sans Mono',consolas,'Courier New',monospace\">Sentences:\n",
       "<span style=\"font-weight: bold\">[</span>\n",
       "    <span style=\"color: #008000; text-decoration-color: #008000\">\"Apple's iPhone 13 has 3 cameras and the fastest chip on the market.\"</span>,\n",
       "    <span style=\"color: #008000; text-decoration-color: #008000\">'The phone retails for $699 for 64GB of storage.'</span>\n",
       "<span style=\"font-weight: bold\">]</span>\n",
       "</pre>\n"
      ],
      "text/plain": [
       "Sentences:\n",
       "\u001b[1m[\u001b[0m\n",
       "    \u001b[32m\"Apple's iPhone 13 has 3 cameras and the fastest chip on the market.\"\u001b[0m,\n",
       "    \u001b[32m'The phone retails for $699 for 64GB of storage.'\u001b[0m\n",
       "\u001b[1m]\u001b[0m\n"
      ]
     },
     "metadata": {},
     "output_type": "display_data"
    },
    {
     "data": {
      "text/html": [
       "<pre style=\"white-space:pre;overflow-x:auto;line-height:normal;font-family:Menlo,'DejaVu Sans Mono',consolas,'Courier New',monospace\">POS\n",
       "<span style=\"font-weight: bold\">[</span>\n",
       "    <span style=\"font-weight: bold\">(</span><span style=\"color: #008000; text-decoration-color: #008000\">'Apple'</span>, <span style=\"color: #008000; text-decoration-color: #008000\">'NNP'</span><span style=\"font-weight: bold\">)</span>,\n",
       "    <span style=\"font-weight: bold\">(</span><span style=\"color: #008000; text-decoration-color: #008000\">\"'s\"</span>, <span style=\"color: #008000; text-decoration-color: #008000\">'POS'</span><span style=\"font-weight: bold\">)</span>,\n",
       "    <span style=\"font-weight: bold\">(</span><span style=\"color: #008000; text-decoration-color: #008000\">'iPhone'</span>, <span style=\"color: #008000; text-decoration-color: #008000\">'NN'</span><span style=\"font-weight: bold\">)</span>,\n",
       "    <span style=\"font-weight: bold\">(</span><span style=\"color: #008000; text-decoration-color: #008000\">'13'</span>, <span style=\"color: #008000; text-decoration-color: #008000\">'CD'</span><span style=\"font-weight: bold\">)</span>,\n",
       "    <span style=\"font-weight: bold\">(</span><span style=\"color: #008000; text-decoration-color: #008000\">'has'</span>, <span style=\"color: #008000; text-decoration-color: #008000\">'VBZ'</span><span style=\"font-weight: bold\">)</span>,\n",
       "    <span style=\"font-weight: bold\">(</span><span style=\"color: #008000; text-decoration-color: #008000\">'3'</span>, <span style=\"color: #008000; text-decoration-color: #008000\">'CD'</span><span style=\"font-weight: bold\">)</span>,\n",
       "    <span style=\"font-weight: bold\">(</span><span style=\"color: #008000; text-decoration-color: #008000\">'cameras'</span>, <span style=\"color: #008000; text-decoration-color: #008000\">'NNS'</span><span style=\"font-weight: bold\">)</span>,\n",
       "    <span style=\"font-weight: bold\">(</span><span style=\"color: #008000; text-decoration-color: #008000\">'and'</span>, <span style=\"color: #008000; text-decoration-color: #008000\">'CC'</span><span style=\"font-weight: bold\">)</span>,\n",
       "    <span style=\"font-weight: bold\">(</span><span style=\"color: #008000; text-decoration-color: #008000\">'the'</span>, <span style=\"color: #008000; text-decoration-color: #008000\">'DT'</span><span style=\"font-weight: bold\">)</span>,\n",
       "    <span style=\"font-weight: bold\">(</span><span style=\"color: #008000; text-decoration-color: #008000\">'fastest'</span>, <span style=\"color: #008000; text-decoration-color: #008000\">'JJS'</span><span style=\"font-weight: bold\">)</span>,\n",
       "    <span style=\"font-weight: bold\">(</span><span style=\"color: #008000; text-decoration-color: #008000\">'chip'</span>, <span style=\"color: #008000; text-decoration-color: #008000\">'NN'</span><span style=\"font-weight: bold\">)</span>,\n",
       "    <span style=\"font-weight: bold\">(</span><span style=\"color: #008000; text-decoration-color: #008000\">'on'</span>, <span style=\"color: #008000; text-decoration-color: #008000\">'IN'</span><span style=\"font-weight: bold\">)</span>,\n",
       "    <span style=\"font-weight: bold\">(</span><span style=\"color: #008000; text-decoration-color: #008000\">'the'</span>, <span style=\"color: #008000; text-decoration-color: #008000\">'DT'</span><span style=\"font-weight: bold\">)</span>,\n",
       "    <span style=\"font-weight: bold\">(</span><span style=\"color: #008000; text-decoration-color: #008000\">'market'</span>, <span style=\"color: #008000; text-decoration-color: #008000\">'NN'</span><span style=\"font-weight: bold\">)</span>,\n",
       "    <span style=\"font-weight: bold\">(</span><span style=\"color: #008000; text-decoration-color: #008000\">'.'</span>, <span style=\"color: #008000; text-decoration-color: #008000\">'.'</span><span style=\"font-weight: bold\">)</span>,\n",
       "    <span style=\"font-weight: bold\">(</span><span style=\"color: #008000; text-decoration-color: #008000\">'The'</span>, <span style=\"color: #008000; text-decoration-color: #008000\">'DT'</span><span style=\"font-weight: bold\">)</span>,\n",
       "    <span style=\"font-weight: bold\">(</span><span style=\"color: #008000; text-decoration-color: #008000\">'phone'</span>, <span style=\"color: #008000; text-decoration-color: #008000\">'NN'</span><span style=\"font-weight: bold\">)</span>,\n",
       "    <span style=\"font-weight: bold\">(</span><span style=\"color: #008000; text-decoration-color: #008000\">'retails'</span>, <span style=\"color: #008000; text-decoration-color: #008000\">'VBZ'</span><span style=\"font-weight: bold\">)</span>,\n",
       "    <span style=\"font-weight: bold\">(</span><span style=\"color: #008000; text-decoration-color: #008000\">'for'</span>, <span style=\"color: #008000; text-decoration-color: #008000\">'IN'</span><span style=\"font-weight: bold\">)</span>,\n",
       "    <span style=\"font-weight: bold\">(</span><span style=\"color: #008000; text-decoration-color: #008000\">'$'</span>, <span style=\"color: #008000; text-decoration-color: #008000\">'$'</span><span style=\"font-weight: bold\">)</span>,\n",
       "    <span style=\"font-weight: bold\">(</span><span style=\"color: #008000; text-decoration-color: #008000\">'699'</span>, <span style=\"color: #008000; text-decoration-color: #008000\">'CD'</span><span style=\"font-weight: bold\">)</span>,\n",
       "    <span style=\"font-weight: bold\">(</span><span style=\"color: #008000; text-decoration-color: #008000\">'for'</span>, <span style=\"color: #008000; text-decoration-color: #008000\">'IN'</span><span style=\"font-weight: bold\">)</span>,\n",
       "    <span style=\"font-weight: bold\">(</span><span style=\"color: #008000; text-decoration-color: #008000\">'64GB'</span>, <span style=\"color: #008000; text-decoration-color: #008000\">'CD'</span><span style=\"font-weight: bold\">)</span>,\n",
       "    <span style=\"font-weight: bold\">(</span><span style=\"color: #008000; text-decoration-color: #008000\">'of'</span>, <span style=\"color: #008000; text-decoration-color: #008000\">'IN'</span><span style=\"font-weight: bold\">)</span>,\n",
       "    <span style=\"font-weight: bold\">(</span><span style=\"color: #008000; text-decoration-color: #008000\">'storage'</span>, <span style=\"color: #008000; text-decoration-color: #008000\">'NN'</span><span style=\"font-weight: bold\">)</span>,\n",
       "    <span style=\"font-weight: bold\">(</span><span style=\"color: #008000; text-decoration-color: #008000\">'.'</span>, <span style=\"color: #008000; text-decoration-color: #008000\">'.'</span><span style=\"font-weight: bold\">)</span>\n",
       "<span style=\"font-weight: bold\">]</span>\n",
       "</pre>\n"
      ],
      "text/plain": [
       "POS\n",
       "\u001b[1m[\u001b[0m\n",
       "    \u001b[1m(\u001b[0m\u001b[32m'Apple'\u001b[0m, \u001b[32m'NNP'\u001b[0m\u001b[1m)\u001b[0m,\n",
       "    \u001b[1m(\u001b[0m\u001b[32m\"'s\"\u001b[0m, \u001b[32m'POS'\u001b[0m\u001b[1m)\u001b[0m,\n",
       "    \u001b[1m(\u001b[0m\u001b[32m'iPhone'\u001b[0m, \u001b[32m'NN'\u001b[0m\u001b[1m)\u001b[0m,\n",
       "    \u001b[1m(\u001b[0m\u001b[32m'13'\u001b[0m, \u001b[32m'CD'\u001b[0m\u001b[1m)\u001b[0m,\n",
       "    \u001b[1m(\u001b[0m\u001b[32m'has'\u001b[0m, \u001b[32m'VBZ'\u001b[0m\u001b[1m)\u001b[0m,\n",
       "    \u001b[1m(\u001b[0m\u001b[32m'3'\u001b[0m, \u001b[32m'CD'\u001b[0m\u001b[1m)\u001b[0m,\n",
       "    \u001b[1m(\u001b[0m\u001b[32m'cameras'\u001b[0m, \u001b[32m'NNS'\u001b[0m\u001b[1m)\u001b[0m,\n",
       "    \u001b[1m(\u001b[0m\u001b[32m'and'\u001b[0m, \u001b[32m'CC'\u001b[0m\u001b[1m)\u001b[0m,\n",
       "    \u001b[1m(\u001b[0m\u001b[32m'the'\u001b[0m, \u001b[32m'DT'\u001b[0m\u001b[1m)\u001b[0m,\n",
       "    \u001b[1m(\u001b[0m\u001b[32m'fastest'\u001b[0m, \u001b[32m'JJS'\u001b[0m\u001b[1m)\u001b[0m,\n",
       "    \u001b[1m(\u001b[0m\u001b[32m'chip'\u001b[0m, \u001b[32m'NN'\u001b[0m\u001b[1m)\u001b[0m,\n",
       "    \u001b[1m(\u001b[0m\u001b[32m'on'\u001b[0m, \u001b[32m'IN'\u001b[0m\u001b[1m)\u001b[0m,\n",
       "    \u001b[1m(\u001b[0m\u001b[32m'the'\u001b[0m, \u001b[32m'DT'\u001b[0m\u001b[1m)\u001b[0m,\n",
       "    \u001b[1m(\u001b[0m\u001b[32m'market'\u001b[0m, \u001b[32m'NN'\u001b[0m\u001b[1m)\u001b[0m,\n",
       "    \u001b[1m(\u001b[0m\u001b[32m'.'\u001b[0m, \u001b[32m'.'\u001b[0m\u001b[1m)\u001b[0m,\n",
       "    \u001b[1m(\u001b[0m\u001b[32m'The'\u001b[0m, \u001b[32m'DT'\u001b[0m\u001b[1m)\u001b[0m,\n",
       "    \u001b[1m(\u001b[0m\u001b[32m'phone'\u001b[0m, \u001b[32m'NN'\u001b[0m\u001b[1m)\u001b[0m,\n",
       "    \u001b[1m(\u001b[0m\u001b[32m'retails'\u001b[0m, \u001b[32m'VBZ'\u001b[0m\u001b[1m)\u001b[0m,\n",
       "    \u001b[1m(\u001b[0m\u001b[32m'for'\u001b[0m, \u001b[32m'IN'\u001b[0m\u001b[1m)\u001b[0m,\n",
       "    \u001b[1m(\u001b[0m\u001b[32m'$'\u001b[0m, \u001b[32m'$'\u001b[0m\u001b[1m)\u001b[0m,\n",
       "    \u001b[1m(\u001b[0m\u001b[32m'699'\u001b[0m, \u001b[32m'CD'\u001b[0m\u001b[1m)\u001b[0m,\n",
       "    \u001b[1m(\u001b[0m\u001b[32m'for'\u001b[0m, \u001b[32m'IN'\u001b[0m\u001b[1m)\u001b[0m,\n",
       "    \u001b[1m(\u001b[0m\u001b[32m'64GB'\u001b[0m, \u001b[32m'CD'\u001b[0m\u001b[1m)\u001b[0m,\n",
       "    \u001b[1m(\u001b[0m\u001b[32m'of'\u001b[0m, \u001b[32m'IN'\u001b[0m\u001b[1m)\u001b[0m,\n",
       "    \u001b[1m(\u001b[0m\u001b[32m'storage'\u001b[0m, \u001b[32m'NN'\u001b[0m\u001b[1m)\u001b[0m,\n",
       "    \u001b[1m(\u001b[0m\u001b[32m'.'\u001b[0m, \u001b[32m'.'\u001b[0m\u001b[1m)\u001b[0m\n",
       "\u001b[1m]\u001b[0m\n"
      ]
     },
     "metadata": {},
     "output_type": "display_data"
    },
    {
     "data": {
      "image/svg+xml": "<svg baseProfile=\"full\" height=\"168px\" preserveAspectRatio=\"xMidYMid meet\" style=\"font-family: times, serif; font-weight:normal; font-style: normal; font-size: 16px;\" version=\"1.1\" viewBox=\"0,0,1200.0,168.0\" width=\"1200px\" xmlns=\"http://www.w3.org/2000/svg\" xmlns:ev=\"http://www.w3.org/2001/xml-events\" xmlns:xlink=\"http://www.w3.org/1999/xlink\"><defs /><svg width=\"100%\" x=\"0\" y=\"0em\"><defs /><text text-anchor=\"middle\" x=\"50%\" y=\"1em\">S</text></svg><svg width=\"4.66667%\" x=\"0%\" y=\"3em\"><defs /><svg width=\"100%\" x=\"0\" y=\"0em\"><defs /><text text-anchor=\"middle\" x=\"50%\" y=\"1em\">GPE</text></svg><svg width=\"100%\" x=\"0%\" y=\"3em\"><defs /><svg width=\"100%\" x=\"0\" y=\"0em\"><defs /><text text-anchor=\"middle\" x=\"50%\" y=\"1em\">Apple</text></svg><svg width=\"100%\" x=\"0%\" y=\"3em\"><defs /><svg width=\"100%\" x=\"0\" y=\"0em\"><defs /><text text-anchor=\"middle\" x=\"50%\" y=\"1em\">NNP</text></svg></svg><line stroke=\"black\" x1=\"50%\" x2=\"50%\" y1=\"1.2em\" y2=\"3em\" /></svg><line stroke=\"black\" x1=\"50%\" x2=\"50%\" y1=\"1.2em\" y2=\"3em\" /></svg><line stroke=\"black\" x1=\"50%\" x2=\"2.33333%\" y1=\"1.2em\" y2=\"3em\" /><svg width=\"3.33333%\" x=\"4.66667%\" y=\"3em\"><defs /><svg width=\"100%\" x=\"0\" y=\"0em\"><defs /><text text-anchor=\"middle\" x=\"50%\" y=\"1em\">'s</text></svg><svg width=\"100%\" x=\"0%\" y=\"3em\"><defs /><svg width=\"100%\" x=\"0\" y=\"0em\"><defs /><text text-anchor=\"middle\" x=\"50%\" y=\"1em\">POS</text></svg></svg><line stroke=\"black\" x1=\"50%\" x2=\"50%\" y1=\"1.2em\" y2=\"3em\" /></svg><line stroke=\"black\" x1=\"50%\" x2=\"6.33333%\" y1=\"1.2em\" y2=\"3em\" /><svg width=\"9.33333%\" x=\"8%\" y=\"3em\"><defs /><svg width=\"100%\" x=\"0\" y=\"0em\"><defs /><text text-anchor=\"middle\" x=\"50%\" y=\"1em\">ORGANIZATION</text></svg><svg width=\"66.6667%\" x=\"0%\" y=\"3em\"><defs /><svg width=\"100%\" x=\"0\" y=\"0em\"><defs /><text text-anchor=\"middle\" x=\"50%\" y=\"1em\">iPhone</text></svg><svg width=\"100%\" x=\"0%\" y=\"3em\"><defs /><svg width=\"100%\" x=\"0\" y=\"0em\"><defs /><text text-anchor=\"middle\" x=\"50%\" y=\"1em\">NN</text></svg></svg><line stroke=\"black\" x1=\"50%\" x2=\"50%\" y1=\"1.2em\" y2=\"3em\" /></svg><line stroke=\"black\" x1=\"50%\" x2=\"33.3333%\" y1=\"1.2em\" y2=\"3em\" /><svg width=\"33.3333%\" x=\"66.6667%\" y=\"3em\"><defs /><svg width=\"100%\" x=\"0\" y=\"0em\"><defs /><text text-anchor=\"middle\" x=\"50%\" y=\"1em\">13</text></svg><svg width=\"100%\" x=\"0%\" y=\"3em\"><defs /><svg width=\"100%\" x=\"0\" y=\"0em\"><defs /><text text-anchor=\"middle\" x=\"50%\" y=\"1em\">CD</text></svg></svg><line stroke=\"black\" x1=\"50%\" x2=\"50%\" y1=\"1.2em\" y2=\"3em\" /></svg><line stroke=\"black\" x1=\"50%\" x2=\"83.3333%\" y1=\"1.2em\" y2=\"3em\" /></svg><line stroke=\"black\" x1=\"50%\" x2=\"12.6667%\" y1=\"1.2em\" y2=\"3em\" /><svg width=\"3.33333%\" x=\"17.3333%\" y=\"3em\"><defs /><svg width=\"100%\" x=\"0\" y=\"0em\"><defs /><text text-anchor=\"middle\" x=\"50%\" y=\"1em\">has</text></svg><svg width=\"100%\" x=\"0%\" y=\"3em\"><defs /><svg width=\"100%\" x=\"0\" y=\"0em\"><defs /><text text-anchor=\"middle\" x=\"50%\" y=\"1em\">VBZ</text></svg></svg><line stroke=\"black\" x1=\"50%\" x2=\"50%\" y1=\"1.2em\" y2=\"3em\" /></svg><line stroke=\"black\" x1=\"50%\" x2=\"19%\" y1=\"1.2em\" y2=\"3em\" /><svg width=\"2.66667%\" x=\"20.6667%\" y=\"3em\"><defs /><svg width=\"100%\" x=\"0\" y=\"0em\"><defs /><text text-anchor=\"middle\" x=\"50%\" y=\"1em\">3</text></svg><svg width=\"100%\" x=\"0%\" y=\"3em\"><defs /><svg width=\"100%\" x=\"0\" y=\"0em\"><defs /><text text-anchor=\"middle\" x=\"50%\" y=\"1em\">CD</text></svg></svg><line stroke=\"black\" x1=\"50%\" x2=\"50%\" y1=\"1.2em\" y2=\"3em\" /></svg><line stroke=\"black\" x1=\"50%\" x2=\"22%\" y1=\"1.2em\" y2=\"3em\" /><svg width=\"6%\" x=\"23.3333%\" y=\"3em\"><defs /><svg width=\"100%\" x=\"0\" y=\"0em\"><defs /><text text-anchor=\"middle\" x=\"50%\" y=\"1em\">cameras</text></svg><svg width=\"100%\" x=\"0%\" y=\"3em\"><defs /><svg width=\"100%\" x=\"0\" y=\"0em\"><defs /><text text-anchor=\"middle\" x=\"50%\" y=\"1em\">NNS</text></svg></svg><line stroke=\"black\" x1=\"50%\" x2=\"50%\" y1=\"1.2em\" y2=\"3em\" /></svg><line stroke=\"black\" x1=\"50%\" x2=\"26.3333%\" y1=\"1.2em\" y2=\"3em\" /><svg width=\"3.33333%\" x=\"29.3333%\" y=\"3em\"><defs /><svg width=\"100%\" x=\"0\" y=\"0em\"><defs /><text text-anchor=\"middle\" x=\"50%\" y=\"1em\">and</text></svg><svg width=\"100%\" x=\"0%\" y=\"3em\"><defs /><svg width=\"100%\" x=\"0\" y=\"0em\"><defs /><text text-anchor=\"middle\" x=\"50%\" y=\"1em\">CC</text></svg></svg><line stroke=\"black\" x1=\"50%\" x2=\"50%\" y1=\"1.2em\" y2=\"3em\" /></svg><line stroke=\"black\" x1=\"50%\" x2=\"31%\" y1=\"1.2em\" y2=\"3em\" /><svg width=\"3.33333%\" x=\"32.6667%\" y=\"3em\"><defs /><svg width=\"100%\" x=\"0\" y=\"0em\"><defs /><text text-anchor=\"middle\" x=\"50%\" y=\"1em\">the</text></svg><svg width=\"100%\" x=\"0%\" y=\"3em\"><defs /><svg width=\"100%\" x=\"0\" y=\"0em\"><defs /><text text-anchor=\"middle\" x=\"50%\" y=\"1em\">DT</text></svg></svg><line stroke=\"black\" x1=\"50%\" x2=\"50%\" y1=\"1.2em\" y2=\"3em\" /></svg><line stroke=\"black\" x1=\"50%\" x2=\"34.3333%\" y1=\"1.2em\" y2=\"3em\" /><svg width=\"6%\" x=\"36%\" y=\"3em\"><defs /><svg width=\"100%\" x=\"0\" y=\"0em\"><defs /><text text-anchor=\"middle\" x=\"50%\" y=\"1em\">fastest</text></svg><svg width=\"100%\" x=\"0%\" y=\"3em\"><defs /><svg width=\"100%\" x=\"0\" y=\"0em\"><defs /><text text-anchor=\"middle\" x=\"50%\" y=\"1em\">JJS</text></svg></svg><line stroke=\"black\" x1=\"50%\" x2=\"50%\" y1=\"1.2em\" y2=\"3em\" /></svg><line stroke=\"black\" x1=\"50%\" x2=\"39%\" y1=\"1.2em\" y2=\"3em\" /><svg width=\"4%\" x=\"42%\" y=\"3em\"><defs /><svg width=\"100%\" x=\"0\" y=\"0em\"><defs /><text text-anchor=\"middle\" x=\"50%\" y=\"1em\">chip</text></svg><svg width=\"100%\" x=\"0%\" y=\"3em\"><defs /><svg width=\"100%\" x=\"0\" y=\"0em\"><defs /><text text-anchor=\"middle\" x=\"50%\" y=\"1em\">NN</text></svg></svg><line stroke=\"black\" x1=\"50%\" x2=\"50%\" y1=\"1.2em\" y2=\"3em\" /></svg><line stroke=\"black\" x1=\"50%\" x2=\"44%\" y1=\"1.2em\" y2=\"3em\" /><svg width=\"2.66667%\" x=\"46%\" y=\"3em\"><defs /><svg width=\"100%\" x=\"0\" y=\"0em\"><defs /><text text-anchor=\"middle\" x=\"50%\" y=\"1em\">on</text></svg><svg width=\"100%\" x=\"0%\" y=\"3em\"><defs /><svg width=\"100%\" x=\"0\" y=\"0em\"><defs /><text text-anchor=\"middle\" x=\"50%\" y=\"1em\">IN</text></svg></svg><line stroke=\"black\" x1=\"50%\" x2=\"50%\" y1=\"1.2em\" y2=\"3em\" /></svg><line stroke=\"black\" x1=\"50%\" x2=\"47.3333%\" y1=\"1.2em\" y2=\"3em\" /><svg width=\"3.33333%\" x=\"48.6667%\" y=\"3em\"><defs /><svg width=\"100%\" x=\"0\" y=\"0em\"><defs /><text text-anchor=\"middle\" x=\"50%\" y=\"1em\">the</text></svg><svg width=\"100%\" x=\"0%\" y=\"3em\"><defs /><svg width=\"100%\" x=\"0\" y=\"0em\"><defs /><text text-anchor=\"middle\" x=\"50%\" y=\"1em\">DT</text></svg></svg><line stroke=\"black\" x1=\"50%\" x2=\"50%\" y1=\"1.2em\" y2=\"3em\" /></svg><line stroke=\"black\" x1=\"50%\" x2=\"50.3333%\" y1=\"1.2em\" y2=\"3em\" /><svg width=\"5.33333%\" x=\"52%\" y=\"3em\"><defs /><svg width=\"100%\" x=\"0\" y=\"0em\"><defs /><text text-anchor=\"middle\" x=\"50%\" y=\"1em\">market</text></svg><svg width=\"100%\" x=\"0%\" y=\"3em\"><defs /><svg width=\"100%\" x=\"0\" y=\"0em\"><defs /><text text-anchor=\"middle\" x=\"50%\" y=\"1em\">NN</text></svg></svg><line stroke=\"black\" x1=\"50%\" x2=\"50%\" y1=\"1.2em\" y2=\"3em\" /></svg><line stroke=\"black\" x1=\"50%\" x2=\"54.6667%\" y1=\"1.2em\" y2=\"3em\" /><svg width=\"2%\" x=\"57.3333%\" y=\"3em\"><defs /><svg width=\"100%\" x=\"0\" y=\"0em\"><defs /><text text-anchor=\"middle\" x=\"50%\" y=\"1em\">.</text></svg><svg width=\"100%\" x=\"0%\" y=\"3em\"><defs /><svg width=\"100%\" x=\"0\" y=\"0em\"><defs /><text text-anchor=\"middle\" x=\"50%\" y=\"1em\">.</text></svg></svg><line stroke=\"black\" x1=\"50%\" x2=\"50%\" y1=\"1.2em\" y2=\"3em\" /></svg><line stroke=\"black\" x1=\"50%\" x2=\"58.3333%\" y1=\"1.2em\" y2=\"3em\" /><svg width=\"3.33333%\" x=\"59.3333%\" y=\"3em\"><defs /><svg width=\"100%\" x=\"0\" y=\"0em\"><defs /><text text-anchor=\"middle\" x=\"50%\" y=\"1em\">The</text></svg><svg width=\"100%\" x=\"0%\" y=\"3em\"><defs /><svg width=\"100%\" x=\"0\" y=\"0em\"><defs /><text text-anchor=\"middle\" x=\"50%\" y=\"1em\">DT</text></svg></svg><line stroke=\"black\" x1=\"50%\" x2=\"50%\" y1=\"1.2em\" y2=\"3em\" /></svg><line stroke=\"black\" x1=\"50%\" x2=\"61%\" y1=\"1.2em\" y2=\"3em\" /><svg width=\"4.66667%\" x=\"62.6667%\" y=\"3em\"><defs /><svg width=\"100%\" x=\"0\" y=\"0em\"><defs /><text text-anchor=\"middle\" x=\"50%\" y=\"1em\">phone</text></svg><svg width=\"100%\" x=\"0%\" y=\"3em\"><defs /><svg width=\"100%\" x=\"0\" y=\"0em\"><defs /><text text-anchor=\"middle\" x=\"50%\" y=\"1em\">NN</text></svg></svg><line stroke=\"black\" x1=\"50%\" x2=\"50%\" y1=\"1.2em\" y2=\"3em\" /></svg><line stroke=\"black\" x1=\"50%\" x2=\"65%\" y1=\"1.2em\" y2=\"3em\" /><svg width=\"6%\" x=\"67.3333%\" y=\"3em\"><defs /><svg width=\"100%\" x=\"0\" y=\"0em\"><defs /><text text-anchor=\"middle\" x=\"50%\" y=\"1em\">retails</text></svg><svg width=\"100%\" x=\"0%\" y=\"3em\"><defs /><svg width=\"100%\" x=\"0\" y=\"0em\"><defs /><text text-anchor=\"middle\" x=\"50%\" y=\"1em\">VBZ</text></svg></svg><line stroke=\"black\" x1=\"50%\" x2=\"50%\" y1=\"1.2em\" y2=\"3em\" /></svg><line stroke=\"black\" x1=\"50%\" x2=\"70.3333%\" y1=\"1.2em\" y2=\"3em\" /><svg width=\"3.33333%\" x=\"73.3333%\" y=\"3em\"><defs /><svg width=\"100%\" x=\"0\" y=\"0em\"><defs /><text text-anchor=\"middle\" x=\"50%\" y=\"1em\">for</text></svg><svg width=\"100%\" x=\"0%\" y=\"3em\"><defs /><svg width=\"100%\" x=\"0\" y=\"0em\"><defs /><text text-anchor=\"middle\" x=\"50%\" y=\"1em\">IN</text></svg></svg><line stroke=\"black\" x1=\"50%\" x2=\"50%\" y1=\"1.2em\" y2=\"3em\" /></svg><line stroke=\"black\" x1=\"50%\" x2=\"75%\" y1=\"1.2em\" y2=\"3em\" /><svg width=\"2%\" x=\"76.6667%\" y=\"3em\"><defs /><svg width=\"100%\" x=\"0\" y=\"0em\"><defs /><text text-anchor=\"middle\" x=\"50%\" y=\"1em\">$</text></svg><svg width=\"100%\" x=\"0%\" y=\"3em\"><defs /><svg width=\"100%\" x=\"0\" y=\"0em\"><defs /><text text-anchor=\"middle\" x=\"50%\" y=\"1em\">$</text></svg></svg><line stroke=\"black\" x1=\"50%\" x2=\"50%\" y1=\"1.2em\" y2=\"3em\" /></svg><line stroke=\"black\" x1=\"50%\" x2=\"77.6667%\" y1=\"1.2em\" y2=\"3em\" /><svg width=\"3.33333%\" x=\"78.6667%\" y=\"3em\"><defs /><svg width=\"100%\" x=\"0\" y=\"0em\"><defs /><text text-anchor=\"middle\" x=\"50%\" y=\"1em\">699</text></svg><svg width=\"100%\" x=\"0%\" y=\"3em\"><defs /><svg width=\"100%\" x=\"0\" y=\"0em\"><defs /><text text-anchor=\"middle\" x=\"50%\" y=\"1em\">CD</text></svg></svg><line stroke=\"black\" x1=\"50%\" x2=\"50%\" y1=\"1.2em\" y2=\"3em\" /></svg><line stroke=\"black\" x1=\"50%\" x2=\"80.3333%\" y1=\"1.2em\" y2=\"3em\" /><svg width=\"3.33333%\" x=\"82%\" y=\"3em\"><defs /><svg width=\"100%\" x=\"0\" y=\"0em\"><defs /><text text-anchor=\"middle\" x=\"50%\" y=\"1em\">for</text></svg><svg width=\"100%\" x=\"0%\" y=\"3em\"><defs /><svg width=\"100%\" x=\"0\" y=\"0em\"><defs /><text text-anchor=\"middle\" x=\"50%\" y=\"1em\">IN</text></svg></svg><line stroke=\"black\" x1=\"50%\" x2=\"50%\" y1=\"1.2em\" y2=\"3em\" /></svg><line stroke=\"black\" x1=\"50%\" x2=\"83.6667%\" y1=\"1.2em\" y2=\"3em\" /><svg width=\"4%\" x=\"85.3333%\" y=\"3em\"><defs /><svg width=\"100%\" x=\"0\" y=\"0em\"><defs /><text text-anchor=\"middle\" x=\"50%\" y=\"1em\">64GB</text></svg><svg width=\"100%\" x=\"0%\" y=\"3em\"><defs /><svg width=\"100%\" x=\"0\" y=\"0em\"><defs /><text text-anchor=\"middle\" x=\"50%\" y=\"1em\">CD</text></svg></svg><line stroke=\"black\" x1=\"50%\" x2=\"50%\" y1=\"1.2em\" y2=\"3em\" /></svg><line stroke=\"black\" x1=\"50%\" x2=\"87.3333%\" y1=\"1.2em\" y2=\"3em\" /><svg width=\"2.66667%\" x=\"89.3333%\" y=\"3em\"><defs /><svg width=\"100%\" x=\"0\" y=\"0em\"><defs /><text text-anchor=\"middle\" x=\"50%\" y=\"1em\">of</text></svg><svg width=\"100%\" x=\"0%\" y=\"3em\"><defs /><svg width=\"100%\" x=\"0\" y=\"0em\"><defs /><text text-anchor=\"middle\" x=\"50%\" y=\"1em\">IN</text></svg></svg><line stroke=\"black\" x1=\"50%\" x2=\"50%\" y1=\"1.2em\" y2=\"3em\" /></svg><line stroke=\"black\" x1=\"50%\" x2=\"90.6667%\" y1=\"1.2em\" y2=\"3em\" /><svg width=\"6%\" x=\"92%\" y=\"3em\"><defs /><svg width=\"100%\" x=\"0\" y=\"0em\"><defs /><text text-anchor=\"middle\" x=\"50%\" y=\"1em\">storage</text></svg><svg width=\"100%\" x=\"0%\" y=\"3em\"><defs /><svg width=\"100%\" x=\"0\" y=\"0em\"><defs /><text text-anchor=\"middle\" x=\"50%\" y=\"1em\">NN</text></svg></svg><line stroke=\"black\" x1=\"50%\" x2=\"50%\" y1=\"1.2em\" y2=\"3em\" /></svg><line stroke=\"black\" x1=\"50%\" x2=\"95%\" y1=\"1.2em\" y2=\"3em\" /><svg width=\"2%\" x=\"98%\" y=\"3em\"><defs /><svg width=\"100%\" x=\"0\" y=\"0em\"><defs /><text text-anchor=\"middle\" x=\"50%\" y=\"1em\">.</text></svg><svg width=\"100%\" x=\"0%\" y=\"3em\"><defs /><svg width=\"100%\" x=\"0\" y=\"0em\"><defs /><text text-anchor=\"middle\" x=\"50%\" y=\"1em\">.</text></svg></svg><line stroke=\"black\" x1=\"50%\" x2=\"50%\" y1=\"1.2em\" y2=\"3em\" /></svg><line stroke=\"black\" x1=\"50%\" x2=\"99%\" y1=\"1.2em\" y2=\"3em\" /></svg>"
     },
     "execution_count": 69,
     "metadata": {},
     "output_type": "execute_result"
    }
   ],
   "source": [
    "text = \"Apple's iPhone 13 has 3 cameras and the fastest chip on the market.  The phone retails for $699 for 64GB of storage.\"\n",
    "rprint(\"Text:\", text)\n",
    "\n",
    "tokens = nltk.word_tokenize(text)\n",
    "rprint(\"Tokens:\", f\"{[t for t in tokens]}\")\n",
    "\n",
    "sentences = nltk.sent_tokenize(text)\n",
    "rprint(\"Sentences:\", sentences)\n",
    "\n",
    "pos = nltk.pos_tag(tokens)\n",
    "rprint(\"POS\", pos)\n",
    "\n",
    "named_entities = nltk.ne_chunk(pos)\n",
    "named_entities\n"
   ]
  },
  {
   "cell_type": "code",
   "execution_count": 70,
   "id": "240b7150",
   "metadata": {},
   "outputs": [
    {
     "name": "stdout",
     "output_type": "stream",
     "text": [
      "CD: numeral, cardinal\n",
      "    mid-1890 nine-thirty forty-two one-tenth ten million 0.5 one forty-\n",
      "    seven 1987 twenty '79 zero two 78-degrees eighty-four IX '60s .025\n",
      "    fifteen 271,124 dozen quintillion DM2,000 ...\n",
      "NN: noun, common, singular or mass\n",
      "    common-carrier cabbage knuckle-duster Casino afghan shed thermostat\n",
      "    investment slide humour falloff slick wind hyena override subhumanity\n",
      "    machinist ...\n",
      "IN: preposition or conjunction, subordinating\n",
      "    astride among uppon whether out inside pro despite on by throughout\n",
      "    below within for towards near behind atop around if like until below\n",
      "    next into if beside ...\n",
      ".: sentence terminator\n",
      "    . ! ?\n",
      "DT: determiner\n",
      "    all an another any both del each either every half la many much nary\n",
      "    neither no some such that the them these this those\n",
      "VBZ: verb, present tense, 3rd person singular\n",
      "    bases reconstructs marks mixes displeases seals carps weaves snatches\n",
      "    slumps stretches authorizes smolders pictures emerges stockpiles\n",
      "    seduces fizzes uses bolsters slaps speaks pleads ...\n",
      "CC: conjunction, coordinating\n",
      "    & 'n and both but either et for less minus neither nor or plus so\n",
      "    therefore times v. versus vs. whether yet\n",
      "$: dollar\n",
      "    $ -$ --$ A$ C$ HK$ M$ NZ$ S$ U.S.$ US$\n",
      "NNS: noun, common, plural\n",
      "    undergraduates scotches bric-a-brac products bodyguards facets coasts\n",
      "    divestitures storehouses designs clubs fragrances averages\n",
      "    subjectivists apprehensions muses factory-jobs ...\n",
      "NNP: noun, proper, singular\n",
      "    Motown Venneboerger Czestochwa Ranzer Conchita Trumplane Christos\n",
      "    Oceanside Escobar Kreisler Sawyer Cougar Yvette Ervin ODI Darryl CTCA\n",
      "    Shannon A.K.C. Meltex Liverpool ...\n",
      "POS: genitive marker\n",
      "    ' 's\n",
      "JJS: adjective, superlative\n",
      "    calmest cheapest choicest classiest cleanest clearest closest commonest\n",
      "    corniest costliest crassest creepiest crudest cutest darkest deadliest\n",
      "    dearest deepest densest dinkiest ...\n"
     ]
    }
   ],
   "source": [
    "tags = set([tag for token, tag in pos])\n",
    "for tag in tags:\n",
    "    nltk.help.upenn_tagset(tag)"
   ]
  },
  {
   "cell_type": "markdown",
   "id": "68e0b302",
   "metadata": {},
   "source": [
    "### Indexing annotated docs"
   ]
  },
  {
   "cell_type": "code",
   "execution_count": 71,
   "id": "121d771d",
   "metadata": {},
   "outputs": [
    {
     "name": "stdout",
     "output_type": "stream",
     "text": [
      "Indexing doc_b as: {\n",
      "    \"id\": \"doc_b\",\n",
      "    \"title\": \"Wayne Gretzky\",\n",
      "    \"body\": \"The greatest hockey player of all time is Wayne Gretzky. He holds a record for holding the most records!  Who else even comes close?\",\n",
      "    \"price\": \"15.13\",\n",
      "    \"in_stock\": true,\n",
      "    \"category\": \"sports\",\n",
      "    \"body_sentences\": \"__SB__ The greatest hockey player of all time is Wayne Gretzky. __SE__ __SB__ He holds a record for holding the most records! __SE__ __SB__ Who else even comes close? __SE__\",\n",
      "    \"body_pos\": \"The#__DT__ greatest#__JJS__ hockey#__NN__ player#__NN__ of#__IN__ all#__DT__ time#__NN__ is#__VBZ__ Wayne#__NNP__ Gretzky#__NNP__ .#__.__ He#__PRP__ holds#__VBZ__ a#__DT__ record#__NN__ for#__IN__ holding#__VBG__ the#__DT__ most#__RBS__ records#__NNS__ !#__.__ Who#__WP__ else#__RB__ even#__RB__ comes#__VBZ__ close#__RB__ ?#__.__\",\n",
      "    \"body_ne\": \"Wayne_Gretzky\"\n",
      "}\n",
      "Indexing doc_a as: {\n",
      "    \"id\": \"doc_a\",\n",
      "    \"title\": \"Apple iPhone 13\",\n",
      "    \"body\": \"The all new Apple iPhone 13 has 3 cameras and the fastest chip on the market.  The phone retails for $699 for 64GB of storage.\",\n",
      "    \"price\": \"5.99\",\n",
      "    \"in_stock\": true,\n",
      "    \"category\": \"childrens\",\n",
      "    \"body_sentences\": \"__SB__ The all new Apple iPhone 13 has 3 cameras and the fastest chip on the market. __SE__ __SB__ The phone retails for $699 for 64GB of storage. __SE__\",\n",
      "    \"body_pos\": \"The#__DT__ all#__DT__ new#__JJ__ Apple#__NNP__ iPhone#__NN__ 13#__CD__ has#__VBZ__ 3#__CD__ cameras#__NNS__ and#__CC__ the#__DT__ fastest#__JJS__ chip#__NN__ on#__IN__ the#__DT__ market#__NN__ .#__.__ The#__DT__ phone#__NN__ retails#__VBZ__ for#__IN__ $#__$__ 699#__CD__ for#__IN__ 64GB#__CD__ of#__IN__ storage#__NN__ .#__.__\",\n",
      "    \"body_ne\": \"Apple \"\n",
      "}\n",
      "Indexing doc_c as: {\n",
      "    \"id\": \"doc_c\",\n",
      "    \"title\": \"Lead Paint Removal\",\n",
      "    \"body\": \"All lead must be removed from the brown and red paint.  Use the Glidden Lead Paint Killer solvent to keep the paint, but remove the lead!\",\n",
      "    \"price\": \"150.21\",\n",
      "    \"in_stock\": false,\n",
      "    \"category\": \"instructional\",\n",
      "    \"body_sentences\": \"__SB__ All lead must be removed from the brown and red paint. __SE__ __SB__ Use the Glidden Lead Paint Killer solvent to keep the paint, but remove the lead! __SE__\",\n",
      "    \"body_pos\": \"All#__DT__ lead#__NN__ must#__MD__ be#__VB__ removed#__VBN__ from#__IN__ the#__DT__ brown#__NN__ and#__CC__ red#__JJ__ paint#__NN__ .#__.__ Use#__VB__ the#__DT__ Glidden#__NNP__ Lead#__NNP__ Paint#__NNP__ Killer#__NNP__ solvent#__NN__ to#__TO__ keep#__VB__ the#__DT__ paint#__NN__ ,#__,__ but#__CC__ remove#__VB__ the#__DT__ lead#__NN__ !#__.__\",\n",
      "    \"body_ne\": \"Glidden_Lead_Paint_Killer\"\n",
      "}\n",
      "Indexing doc_d as: {\n",
      "    \"id\": \"doc_d\",\n",
      "    \"title\": \"The Three Little Pigs Revisted\",\n",
      "    \"price\": \"3.51\",\n",
      "    \"in_stock\": true,\n",
      "    \"body\": \"The big, bad wolf huffed and puffed and blew the house down. The end.  Well, not quite.  It seems the pigs filed an injunction against the wolf and now the wolf has to pay restitution.\",\n",
      "    \"category\": \"childrens\",\n",
      "    \"body_sentences\": \"__SB__ The big, bad wolf huffed and puffed and blew the house down. __SE__ __SB__ The end. __SE__ __SB__ Well, not quite. __SE__ __SB__ It seems the pigs filed an injunction against the wolf and now the wolf has to pay restitution. __SE__\",\n",
      "    \"body_pos\": \"The#__DT__ big#__JJ__ ,#__,__ bad#__JJ__ wolf#__NN__ huffed#__NN__ and#__CC__ puffed#__NN__ and#__CC__ blew#__VBD__ the#__DT__ house#__NN__ down#__RP__ .#__.__ The#__DT__ end#__NN__ .#__.__ Well#__NNP__ ,#__,__ not#__RB__ quite#__RB__ .#__.__ It#__PRP__ seems#__VBZ__ the#__DT__ pigs#__NNS__ filed#__VBD__ an#__DT__ injunction#__NN__ against#__IN__ the#__DT__ wolf#__NN__ and#__CC__ now#__RB__ the#__DT__ wolf#__NN__ has#__VBZ__ to#__TO__ pay#__VB__ restitution#__NN__ .#__.__\",\n",
      "    \"body_ne\": \"Well \"\n",
      "}\n",
      "Indexing doc_e as: {\n",
      "    \"id\": \"doc_e\",\n",
      "    \"title\": \"Green apples and Spam\",\n",
      "    \"price\": \"2.99\",\n",
      "    \"in_stock\": true,\n",
      "    \"body\": \"The little green apple fell from the tree.  It was not a bad apple, so no one could understand why it fell.\",\n",
      "    \"category\": \"childrens\",\n",
      "    \"body_sentences\": \"__SB__ The little green apple fell from the tree. __SE__ __SB__ It was not a bad apple, so no one could understand why it fell. __SE__\",\n",
      "    \"body_pos\": \"The#__DT__ little#__JJ__ green#__JJ__ apple#__NN__ fell#__VBD__ from#__IN__ the#__DT__ tree#__NN__ .#__.__ It#__PRP__ was#__VBD__ not#__RB__ a#__DT__ bad#__JJ__ apple#__NN__ ,#__,__ so#__IN__ no#__DT__ one#__NN__ could#__MD__ understand#__VB__ why#__WRB__ it#__PRP__ fell#__VBD__ .#__.__\",\n",
      "    \"body_ne\": \"\"\n",
      "}\n",
      "Indexing doc_f as: {\n",
      "    \"id\": \"doc_f\",\n",
      "    \"title\": \"Fun with Spans\",\n",
      "    \"price\": \"4.99\",\n",
      "    \"in_stock\": true,\n",
      "    \"body\": \"Dan is the President. The United States Government has arrested him.\",\n",
      "    \"category\": \"childrens\",\n",
      "    \"body_sentences\": \"__SB__ Dan is the President. __SE__ __SB__ The United States Government has arrested him. __SE__\",\n",
      "    \"body_pos\": \"Dan#__NNP__ is#__VBZ__ the#__DT__ President#__NNP__ .#__.__ The#__DT__ United#__NNP__ States#__NNPS__ Government#__NNP__ has#__VBZ__ arrested#__VBN__ him#__PRP__ .#__.__\",\n",
      "    \"body_ne\": \"President Government \"\n",
      "}\n"
     ]
    }
   ],
   "source": [
    "def get_entities(named_entities, entity_types):\n",
    "    result = \"\"\n",
    "    for ent in named_entities:  # two cases: we have a NNP or we have a tree\n",
    "        if isinstance(ent, tuple):\n",
    "            e_type = ent[1]\n",
    "            if e_type in entity_types:\n",
    "                result += ent[0] + \" \"\n",
    "        elif isinstance(ent, nltk.Tree):\n",
    "            if ent.label() in entity_types:\n",
    "                # these are tuples, we want all of them, but just the first part\n",
    "                result += \"_\".join([x[0] for x in ent.leaves()])\n",
    "\n",
    "    return result\n",
    "\n",
    "\n",
    "for doc in docs:\n",
    "    doc_id = doc[\"id\"]\n",
    "    for item in [\"body\"]:  # Just do body for now\n",
    "        value = doc[item]\n",
    "        tokens = nltk.word_tokenize(value)\n",
    "        sentences = nltk.sent_tokenize(value)\n",
    "        pos = nltk.pos_tag(tokens)\n",
    "        named_entities = nltk.ne_chunk(pos)\n",
    "        doc[\"%s_sentences\" % item] = \" \".join(\"__SB__ %s __SE__\" % x for x in sentences)\n",
    "        doc[\"%s_pos\" % item] = \" \".join(\n",
    "            [\"#\".join([x[0], \"__%s__\" % x[1]]) for x in pos]\n",
    "        )\n",
    "        doc[\"%s_ne\" % item] = get_entities(\n",
    "            named_entities, {\"ORGANIZATION\", \"PERSON\", \"NNP\"}\n",
    "        )\n",
    "    print(\"Indexing {} as: {}\".format(doc_id, json.dumps(doc, indent=4)))\n",
    "    client.index(index=index_name, body=doc, id=doc_id, refresh=True)\n"
   ]
  },
  {
   "cell_type": "markdown",
   "id": "c070b33c",
   "metadata": {},
   "source": [
    "## Query annotations"
   ]
  },
  {
   "cell_type": "code",
   "execution_count": 72,
   "id": "953de298",
   "metadata": {},
   "outputs": [
    {
     "name": "stdout",
     "output_type": "stream",
     "text": [
      "epoch      timestamp count\n",
      "1646145256 14:34:16  6\n",
      "\n"
     ]
    }
   ],
   "source": [
    "# Verify they are in:\n",
    "print(client.cat.count(index_name, params={\"v\": \"true\"}))"
   ]
  },
  {
   "cell_type": "markdown",
   "id": "687c6c50",
   "metadata": {},
   "source": [
    "### Apple as a proper noun"
   ]
  },
  {
   "cell_type": "code",
   "execution_count": 73,
   "id": "57141221",
   "metadata": {},
   "outputs": [
    {
     "name": "stdout",
     "output_type": "stream",
     "text": [
      "Proper Noun Apple\n"
     ]
    },
    {
     "data": {
      "text/html": [
       "<pre style=\"white-space:pre;overflow-x:auto;line-height:normal;font-family:Menlo,'DejaVu Sans Mono',consolas,'Courier New',monospace\">\n",
       "<span style=\"font-weight: bold\">{</span>\n",
       "    <span style=\"color: #008000; text-decoration-color: #008000\">'took'</span>: <span style=\"color: #008080; text-decoration-color: #008080; font-weight: bold\">1</span>,\n",
       "    <span style=\"color: #008000; text-decoration-color: #008000\">'timed_out'</span>: <span style=\"color: #ff0000; text-decoration-color: #ff0000; font-style: italic\">False</span>,\n",
       "    <span style=\"color: #008000; text-decoration-color: #008000\">'_shards'</span>: <span style=\"font-weight: bold\">{</span><span style=\"color: #008000; text-decoration-color: #008000\">'total'</span>: <span style=\"color: #008080; text-decoration-color: #008080; font-weight: bold\">1</span>, <span style=\"color: #008000; text-decoration-color: #008000\">'successful'</span>: <span style=\"color: #008080; text-decoration-color: #008080; font-weight: bold\">1</span>, <span style=\"color: #008000; text-decoration-color: #008000\">'skipped'</span>: <span style=\"color: #008080; text-decoration-color: #008080; font-weight: bold\">0</span>, <span style=\"color: #008000; text-decoration-color: #008000\">'failed'</span>: <span style=\"color: #008080; text-decoration-color: #008080; font-weight: bold\">0</span><span style=\"font-weight: bold\">}</span>,\n",
       "    <span style=\"color: #008000; text-decoration-color: #008000\">'hits'</span>: <span style=\"font-weight: bold\">{</span>\n",
       "        <span style=\"color: #008000; text-decoration-color: #008000\">'total'</span>: <span style=\"font-weight: bold\">{</span><span style=\"color: #008000; text-decoration-color: #008000\">'value'</span>: <span style=\"color: #008080; text-decoration-color: #008080; font-weight: bold\">1</span>, <span style=\"color: #008000; text-decoration-color: #008000\">'relation'</span>: <span style=\"color: #008000; text-decoration-color: #008000\">'eq'</span><span style=\"font-weight: bold\">}</span>,\n",
       "        <span style=\"color: #008000; text-decoration-color: #008000\">'max_score'</span>: <span style=\"color: #008080; text-decoration-color: #008080; font-weight: bold\">2.1059992</span>,\n",
       "        <span style=\"color: #008000; text-decoration-color: #008000\">'hits'</span>: <span style=\"font-weight: bold\">[</span>\n",
       "            <span style=\"font-weight: bold\">{</span>\n",
       "                <span style=\"color: #008000; text-decoration-color: #008000\">'_index'</span>: <span style=\"color: #008000; text-decoration-color: #008000\">'searchml_week3'</span>,\n",
       "                <span style=\"color: #008000; text-decoration-color: #008000\">'_type'</span>: <span style=\"color: #008000; text-decoration-color: #008000\">'_doc'</span>,\n",
       "                <span style=\"color: #008000; text-decoration-color: #008000\">'_id'</span>: <span style=\"color: #008000; text-decoration-color: #008000\">'doc_a'</span>,\n",
       "                <span style=\"color: #008000; text-decoration-color: #008000\">'_score'</span>: <span style=\"color: #008080; text-decoration-color: #008080; font-weight: bold\">2.1059992</span>,\n",
       "                <span style=\"color: #008000; text-decoration-color: #008000\">'_source'</span>: <span style=\"font-weight: bold\">{</span>\n",
       "                    <span style=\"color: #008000; text-decoration-color: #008000\">'id'</span>: <span style=\"color: #008000; text-decoration-color: #008000\">'doc_a'</span>,\n",
       "                    <span style=\"color: #008000; text-decoration-color: #008000\">'title'</span>: <span style=\"color: #008000; text-decoration-color: #008000\">'Apple iPhone 13'</span>,\n",
       "                    <span style=\"color: #008000; text-decoration-color: #008000\">'body'</span>: <span style=\"color: #008000; text-decoration-color: #008000\">'The all new Apple iPhone 13 has 3 cameras and the fastest chip on the market.  The phone retails for $699 for 64GB of storage.'</span>,\n",
       "                    <span style=\"color: #008000; text-decoration-color: #008000\">'price'</span>: <span style=\"color: #008000; text-decoration-color: #008000\">'5.99'</span>,\n",
       "                    <span style=\"color: #008000; text-decoration-color: #008000\">'in_stock'</span>: <span style=\"color: #00ff00; text-decoration-color: #00ff00; font-style: italic\">True</span>,\n",
       "                    <span style=\"color: #008000; text-decoration-color: #008000\">'category'</span>: <span style=\"color: #008000; text-decoration-color: #008000\">'childrens'</span>,\n",
       "                    <span style=\"color: #008000; text-decoration-color: #008000\">'body_sentences'</span>: <span style=\"color: #008000; text-decoration-color: #008000\">'__SB__ The all new Apple iPhone 13 has 3 cameras and the fastest chip on the market. __SE__ __SB__ The phone retails for $699 for 64GB of storage. __SE__'</span>,\n",
       "                    <span style=\"color: #008000; text-decoration-color: #008000\">'body_pos'</span>: <span style=\"color: #008000; text-decoration-color: #008000\">'The#__DT__ all#__DT__ new#__JJ__ Apple#__NNP__ iPhone#__NN__ 13#__CD__ has#__VBZ__ 3#__CD__ cameras#__NNS__ and#__CC__ the#__DT__ fastest#__JJS__ chip#__NN__ on#__IN__ the#__DT__ market#__NN__ .#__.__ The#__DT__ phone#__NN__ retails#__VBZ__ for#__IN__ $#__$__ 699#__CD__ for#__IN__ 64GB#__CD__ of#__IN__ storage#__NN__ .#__.__'</span>,\n",
       "                    <span style=\"color: #008000; text-decoration-color: #008000\">'body_ne'</span>: <span style=\"color: #008000; text-decoration-color: #008000\">'Apple '</span>\n",
       "                <span style=\"font-weight: bold\">}</span>\n",
       "            <span style=\"font-weight: bold\">}</span>\n",
       "        <span style=\"font-weight: bold\">]</span>\n",
       "    <span style=\"font-weight: bold\">}</span>\n",
       "<span style=\"font-weight: bold\">}</span>\n",
       "</pre>\n"
      ],
      "text/plain": [
       "\n",
       "\u001b[1m{\u001b[0m\n",
       "    \u001b[32m'took'\u001b[0m: \u001b[1;36m1\u001b[0m,\n",
       "    \u001b[32m'timed_out'\u001b[0m: \u001b[3;91mFalse\u001b[0m,\n",
       "    \u001b[32m'_shards'\u001b[0m: \u001b[1m{\u001b[0m\u001b[32m'total'\u001b[0m: \u001b[1;36m1\u001b[0m, \u001b[32m'successful'\u001b[0m: \u001b[1;36m1\u001b[0m, \u001b[32m'skipped'\u001b[0m: \u001b[1;36m0\u001b[0m, \u001b[32m'failed'\u001b[0m: \u001b[1;36m0\u001b[0m\u001b[1m}\u001b[0m,\n",
       "    \u001b[32m'hits'\u001b[0m: \u001b[1m{\u001b[0m\n",
       "        \u001b[32m'total'\u001b[0m: \u001b[1m{\u001b[0m\u001b[32m'value'\u001b[0m: \u001b[1;36m1\u001b[0m, \u001b[32m'relation'\u001b[0m: \u001b[32m'eq'\u001b[0m\u001b[1m}\u001b[0m,\n",
       "        \u001b[32m'max_score'\u001b[0m: \u001b[1;36m2.1059992\u001b[0m,\n",
       "        \u001b[32m'hits'\u001b[0m: \u001b[1m[\u001b[0m\n",
       "            \u001b[1m{\u001b[0m\n",
       "                \u001b[32m'_index'\u001b[0m: \u001b[32m'searchml_week3'\u001b[0m,\n",
       "                \u001b[32m'_type'\u001b[0m: \u001b[32m'_doc'\u001b[0m,\n",
       "                \u001b[32m'_id'\u001b[0m: \u001b[32m'doc_a'\u001b[0m,\n",
       "                \u001b[32m'_score'\u001b[0m: \u001b[1;36m2.1059992\u001b[0m,\n",
       "                \u001b[32m'_source'\u001b[0m: \u001b[1m{\u001b[0m\n",
       "                    \u001b[32m'id'\u001b[0m: \u001b[32m'doc_a'\u001b[0m,\n",
       "                    \u001b[32m'title'\u001b[0m: \u001b[32m'Apple iPhone 13'\u001b[0m,\n",
       "                    \u001b[32m'body'\u001b[0m: \u001b[32m'The all new Apple iPhone 13 has 3 cameras and the fastest chip on the market.  The phone retails for $699 for 64GB of storage.'\u001b[0m,\n",
       "                    \u001b[32m'price'\u001b[0m: \u001b[32m'5.99'\u001b[0m,\n",
       "                    \u001b[32m'in_stock'\u001b[0m: \u001b[3;92mTrue\u001b[0m,\n",
       "                    \u001b[32m'category'\u001b[0m: \u001b[32m'childrens'\u001b[0m,\n",
       "                    \u001b[32m'body_sentences'\u001b[0m: \u001b[32m'__SB__ The all new Apple iPhone 13 has 3 cameras and the fastest chip on the market. __SE__ __SB__ The phone retails for $699 for 64GB of storage. __SE__'\u001b[0m,\n",
       "                    \u001b[32m'body_pos'\u001b[0m: \u001b[32m'The#__DT__ all#__DT__ new#__JJ__ Apple#__NNP__ iPhone#__NN__ 13#__CD__ has#__VBZ__ 3#__CD__ cameras#__NNS__ and#__CC__ the#__DT__ fastest#__JJS__ chip#__NN__ on#__IN__ the#__DT__ market#__NN__ .#__.__ The#__DT__ phone#__NN__ retails#__VBZ__ for#__IN__ $#__$__ 699#__CD__ for#__IN__ 64GB#__CD__ of#__IN__ storage#__NN__ .#__.__'\u001b[0m,\n",
       "                    \u001b[32m'body_ne'\u001b[0m: \u001b[32m'Apple '\u001b[0m\n",
       "                \u001b[1m}\u001b[0m\n",
       "            \u001b[1m}\u001b[0m\n",
       "        \u001b[1m]\u001b[0m\n",
       "    \u001b[1m}\u001b[0m\n",
       "\u001b[1m}\u001b[0m\n"
      ]
     },
     "metadata": {},
     "output_type": "display_data"
    }
   ],
   "source": [
    "print(\"Proper Noun Apple\")\n",
    "q = \"apple#__NNP__\"\n",
    "query = {\"size\": 5, \"query\": {\"query_string\": {\"query\": q, \"fields\": [\"body_pos\"]}}}\n",
    "rsp = client.search(body=query, index=index_name)\n",
    "rsp"
   ]
  },
  {
   "cell_type": "markdown",
   "id": "72a73f71",
   "metadata": {},
   "source": [
    "### Apple as a common noun"
   ]
  },
  {
   "cell_type": "code",
   "execution_count": 74,
   "id": "73712559",
   "metadata": {},
   "outputs": [
    {
     "name": "stdout",
     "output_type": "stream",
     "text": [
      "Plain ol Apple\n"
     ]
    },
    {
     "data": {
      "text/html": [
       "<pre style=\"white-space:pre;overflow-x:auto;line-height:normal;font-family:Menlo,'DejaVu Sans Mono',consolas,'Courier New',monospace\">\n",
       "<span style=\"font-weight: bold\">{</span>\n",
       "    <span style=\"color: #008000; text-decoration-color: #008000\">'took'</span>: <span style=\"color: #008080; text-decoration-color: #008080; font-weight: bold\">1</span>,\n",
       "    <span style=\"color: #008000; text-decoration-color: #008000\">'timed_out'</span>: <span style=\"color: #ff0000; text-decoration-color: #ff0000; font-style: italic\">False</span>,\n",
       "    <span style=\"color: #008000; text-decoration-color: #008000\">'_shards'</span>: <span style=\"font-weight: bold\">{</span><span style=\"color: #008000; text-decoration-color: #008000\">'total'</span>: <span style=\"color: #008080; text-decoration-color: #008080; font-weight: bold\">1</span>, <span style=\"color: #008000; text-decoration-color: #008000\">'successful'</span>: <span style=\"color: #008080; text-decoration-color: #008080; font-weight: bold\">1</span>, <span style=\"color: #008000; text-decoration-color: #008000\">'skipped'</span>: <span style=\"color: #008080; text-decoration-color: #008080; font-weight: bold\">0</span>, <span style=\"color: #008000; text-decoration-color: #008000\">'failed'</span>: <span style=\"color: #008080; text-decoration-color: #008080; font-weight: bold\">0</span><span style=\"font-weight: bold\">}</span>,\n",
       "    <span style=\"color: #008000; text-decoration-color: #008000\">'hits'</span>: <span style=\"font-weight: bold\">{</span>\n",
       "        <span style=\"color: #008000; text-decoration-color: #008000\">'total'</span>: <span style=\"font-weight: bold\">{</span><span style=\"color: #008000; text-decoration-color: #008000\">'value'</span>: <span style=\"color: #008080; text-decoration-color: #008080; font-weight: bold\">1</span>, <span style=\"color: #008000; text-decoration-color: #008000\">'relation'</span>: <span style=\"color: #008000; text-decoration-color: #008000\">'eq'</span><span style=\"font-weight: bold\">}</span>,\n",
       "        <span style=\"color: #008000; text-decoration-color: #008000\">'max_score'</span>: <span style=\"color: #008080; text-decoration-color: #008080; font-weight: bold\">2.6311197</span>,\n",
       "        <span style=\"color: #008000; text-decoration-color: #008000\">'hits'</span>: <span style=\"font-weight: bold\">[</span>\n",
       "            <span style=\"font-weight: bold\">{</span>\n",
       "                <span style=\"color: #008000; text-decoration-color: #008000\">'_index'</span>: <span style=\"color: #008000; text-decoration-color: #008000\">'searchml_week3'</span>,\n",
       "                <span style=\"color: #008000; text-decoration-color: #008000\">'_type'</span>: <span style=\"color: #008000; text-decoration-color: #008000\">'_doc'</span>,\n",
       "                <span style=\"color: #008000; text-decoration-color: #008000\">'_id'</span>: <span style=\"color: #008000; text-decoration-color: #008000\">'doc_e'</span>,\n",
       "                <span style=\"color: #008000; text-decoration-color: #008000\">'_score'</span>: <span style=\"color: #008080; text-decoration-color: #008080; font-weight: bold\">2.6311197</span>,\n",
       "                <span style=\"color: #008000; text-decoration-color: #008000\">'_source'</span>: <span style=\"font-weight: bold\">{</span>\n",
       "                    <span style=\"color: #008000; text-decoration-color: #008000\">'id'</span>: <span style=\"color: #008000; text-decoration-color: #008000\">'doc_e'</span>,\n",
       "                    <span style=\"color: #008000; text-decoration-color: #008000\">'title'</span>: <span style=\"color: #008000; text-decoration-color: #008000\">'Green apples and Spam'</span>,\n",
       "                    <span style=\"color: #008000; text-decoration-color: #008000\">'price'</span>: <span style=\"color: #008000; text-decoration-color: #008000\">'2.99'</span>,\n",
       "                    <span style=\"color: #008000; text-decoration-color: #008000\">'in_stock'</span>: <span style=\"color: #00ff00; text-decoration-color: #00ff00; font-style: italic\">True</span>,\n",
       "                    <span style=\"color: #008000; text-decoration-color: #008000\">'body'</span>: <span style=\"color: #008000; text-decoration-color: #008000\">'The little green apple fell from the tree.  It was not a bad apple, so no one could understand why it fell.'</span>,\n",
       "                    <span style=\"color: #008000; text-decoration-color: #008000\">'category'</span>: <span style=\"color: #008000; text-decoration-color: #008000\">'childrens'</span>,\n",
       "                    <span style=\"color: #008000; text-decoration-color: #008000\">'body_sentences'</span>: <span style=\"color: #008000; text-decoration-color: #008000\">'__SB__ The little green apple fell from the tree. __SE__ __SB__ It was not a bad apple, so no one could understand why it fell. __SE__'</span>,\n",
       "                    <span style=\"color: #008000; text-decoration-color: #008000\">'body_pos'</span>: <span style=\"color: #008000; text-decoration-color: #008000\">'The#__DT__ little#__JJ__ green#__JJ__ apple#__NN__ fell#__VBD__ from#__IN__ the#__DT__ tree#__NN__ .#__.__ It#__PRP__ was#__VBD__ not#__RB__ a#__DT__ bad#__JJ__ apple#__NN__ ,#__,__ so#__IN__ no#__DT__ one#__NN__ could#__MD__ understand#__VB__ why#__WRB__ it#__PRP__ fell#__VBD__ .#__.__'</span>,\n",
       "                    <span style=\"color: #008000; text-decoration-color: #008000\">'body_ne'</span>: <span style=\"color: #008000; text-decoration-color: #008000\">''</span>\n",
       "                <span style=\"font-weight: bold\">}</span>\n",
       "            <span style=\"font-weight: bold\">}</span>\n",
       "        <span style=\"font-weight: bold\">]</span>\n",
       "    <span style=\"font-weight: bold\">}</span>\n",
       "<span style=\"font-weight: bold\">}</span>\n",
       "</pre>\n"
      ],
      "text/plain": [
       "\n",
       "\u001b[1m{\u001b[0m\n",
       "    \u001b[32m'took'\u001b[0m: \u001b[1;36m1\u001b[0m,\n",
       "    \u001b[32m'timed_out'\u001b[0m: \u001b[3;91mFalse\u001b[0m,\n",
       "    \u001b[32m'_shards'\u001b[0m: \u001b[1m{\u001b[0m\u001b[32m'total'\u001b[0m: \u001b[1;36m1\u001b[0m, \u001b[32m'successful'\u001b[0m: \u001b[1;36m1\u001b[0m, \u001b[32m'skipped'\u001b[0m: \u001b[1;36m0\u001b[0m, \u001b[32m'failed'\u001b[0m: \u001b[1;36m0\u001b[0m\u001b[1m}\u001b[0m,\n",
       "    \u001b[32m'hits'\u001b[0m: \u001b[1m{\u001b[0m\n",
       "        \u001b[32m'total'\u001b[0m: \u001b[1m{\u001b[0m\u001b[32m'value'\u001b[0m: \u001b[1;36m1\u001b[0m, \u001b[32m'relation'\u001b[0m: \u001b[32m'eq'\u001b[0m\u001b[1m}\u001b[0m,\n",
       "        \u001b[32m'max_score'\u001b[0m: \u001b[1;36m2.6311197\u001b[0m,\n",
       "        \u001b[32m'hits'\u001b[0m: \u001b[1m[\u001b[0m\n",
       "            \u001b[1m{\u001b[0m\n",
       "                \u001b[32m'_index'\u001b[0m: \u001b[32m'searchml_week3'\u001b[0m,\n",
       "                \u001b[32m'_type'\u001b[0m: \u001b[32m'_doc'\u001b[0m,\n",
       "                \u001b[32m'_id'\u001b[0m: \u001b[32m'doc_e'\u001b[0m,\n",
       "                \u001b[32m'_score'\u001b[0m: \u001b[1;36m2.6311197\u001b[0m,\n",
       "                \u001b[32m'_source'\u001b[0m: \u001b[1m{\u001b[0m\n",
       "                    \u001b[32m'id'\u001b[0m: \u001b[32m'doc_e'\u001b[0m,\n",
       "                    \u001b[32m'title'\u001b[0m: \u001b[32m'Green apples and Spam'\u001b[0m,\n",
       "                    \u001b[32m'price'\u001b[0m: \u001b[32m'2.99'\u001b[0m,\n",
       "                    \u001b[32m'in_stock'\u001b[0m: \u001b[3;92mTrue\u001b[0m,\n",
       "                    \u001b[32m'body'\u001b[0m: \u001b[32m'The little green apple fell from the tree.  It was not a bad apple, so no one could understand why it fell.'\u001b[0m,\n",
       "                    \u001b[32m'category'\u001b[0m: \u001b[32m'childrens'\u001b[0m,\n",
       "                    \u001b[32m'body_sentences'\u001b[0m: \u001b[32m'__SB__ The little green apple fell from the tree. __SE__ __SB__ It was not a bad apple, so no one could understand why it fell. __SE__'\u001b[0m,\n",
       "                    \u001b[32m'body_pos'\u001b[0m: \u001b[32m'The#__DT__ little#__JJ__ green#__JJ__ apple#__NN__ fell#__VBD__ from#__IN__ the#__DT__ tree#__NN__ .#__.__ It#__PRP__ was#__VBD__ not#__RB__ a#__DT__ bad#__JJ__ apple#__NN__ ,#__,__ so#__IN__ no#__DT__ one#__NN__ could#__MD__ understand#__VB__ why#__WRB__ it#__PRP__ fell#__VBD__ .#__.__'\u001b[0m,\n",
       "                    \u001b[32m'body_ne'\u001b[0m: \u001b[32m''\u001b[0m\n",
       "                \u001b[1m}\u001b[0m\n",
       "            \u001b[1m}\u001b[0m\n",
       "        \u001b[1m]\u001b[0m\n",
       "    \u001b[1m}\u001b[0m\n",
       "\u001b[1m}\u001b[0m\n"
      ]
     },
     "metadata": {},
     "output_type": "display_data"
    }
   ],
   "source": [
    "print(\"Plain ol Apple\")\n",
    "q = \"apple#__NN__\"\n",
    "query = {\"size\": 5, \"query\": {\"query_string\": {\"query\": q, \"fields\": [\"body_pos\"]}}}\n",
    "rsp = client.search(body=query, index=index_name)\n",
    "rsp"
   ]
  },
  {
   "cell_type": "markdown",
   "id": "4999cb1a",
   "metadata": {},
   "source": [
    "### Use span query\n",
    " - [span_within](https://www.elastic.co/guide/en/elasticsearch/reference/7.10/query-dsl-span-within-query.html)\n",
    " - [span_near](https://www.elastic.co/guide/en/elasticsearch/reference/7.10/query-dsl-span-near-query.html)"
   ]
  },
  {
   "cell_type": "code",
   "execution_count": 75,
   "id": "8bc2d7c5",
   "metadata": {},
   "outputs": [
    {
     "data": {
      "text/html": [
       "<pre style=\"white-space:pre;overflow-x:auto;line-height:normal;font-family:Menlo,'DejaVu Sans Mono',consolas,'Courier New',monospace\"><span style=\"font-weight: bold\">{</span>\n",
       "    <span style=\"color: #008000; text-decoration-color: #008000\">'took'</span>: <span style=\"color: #008080; text-decoration-color: #008080; font-weight: bold\">1</span>,\n",
       "    <span style=\"color: #008000; text-decoration-color: #008000\">'timed_out'</span>: <span style=\"color: #ff0000; text-decoration-color: #ff0000; font-style: italic\">False</span>,\n",
       "    <span style=\"color: #008000; text-decoration-color: #008000\">'_shards'</span>: <span style=\"font-weight: bold\">{</span><span style=\"color: #008000; text-decoration-color: #008000\">'total'</span>: <span style=\"color: #008080; text-decoration-color: #008080; font-weight: bold\">1</span>, <span style=\"color: #008000; text-decoration-color: #008000\">'successful'</span>: <span style=\"color: #008080; text-decoration-color: #008080; font-weight: bold\">1</span>, <span style=\"color: #008000; text-decoration-color: #008000\">'skipped'</span>: <span style=\"color: #008080; text-decoration-color: #008080; font-weight: bold\">0</span>, <span style=\"color: #008000; text-decoration-color: #008000\">'failed'</span>: <span style=\"color: #008080; text-decoration-color: #008080; font-weight: bold\">0</span><span style=\"font-weight: bold\">}</span>,\n",
       "    <span style=\"color: #008000; text-decoration-color: #008000\">'hits'</span>: <span style=\"font-weight: bold\">{</span>\n",
       "        <span style=\"color: #008000; text-decoration-color: #008000\">'total'</span>: <span style=\"font-weight: bold\">{</span><span style=\"color: #008000; text-decoration-color: #008000\">'value'</span>: <span style=\"color: #008080; text-decoration-color: #008080; font-weight: bold\">1</span>, <span style=\"color: #008000; text-decoration-color: #008000\">'relation'</span>: <span style=\"color: #008000; text-decoration-color: #008000\">'eq'</span><span style=\"font-weight: bold\">}</span>,\n",
       "        <span style=\"color: #008000; text-decoration-color: #008000\">'max_score'</span>: <span style=\"color: #008080; text-decoration-color: #008080; font-weight: bold\">7.04297</span>,\n",
       "        <span style=\"color: #008000; text-decoration-color: #008000\">'hits'</span>: <span style=\"font-weight: bold\">[</span>\n",
       "            <span style=\"font-weight: bold\">{</span>\n",
       "                <span style=\"color: #008000; text-decoration-color: #008000\">'_index'</span>: <span style=\"color: #008000; text-decoration-color: #008000\">'searchml_week3'</span>,\n",
       "                <span style=\"color: #008000; text-decoration-color: #008000\">'_type'</span>: <span style=\"color: #008000; text-decoration-color: #008000\">'_doc'</span>,\n",
       "                <span style=\"color: #008000; text-decoration-color: #008000\">'_id'</span>: <span style=\"color: #008000; text-decoration-color: #008000\">'doc_f'</span>,\n",
       "                <span style=\"color: #008000; text-decoration-color: #008000\">'_score'</span>: <span style=\"color: #008080; text-decoration-color: #008080; font-weight: bold\">7.04297</span>,\n",
       "                <span style=\"color: #008000; text-decoration-color: #008000\">'_source'</span>: <span style=\"font-weight: bold\">{</span>\n",
       "                    <span style=\"color: #008000; text-decoration-color: #008000\">'id'</span>: <span style=\"color: #008000; text-decoration-color: #008000\">'doc_f'</span>,\n",
       "                    <span style=\"color: #008000; text-decoration-color: #008000\">'title'</span>: <span style=\"color: #008000; text-decoration-color: #008000\">'Fun with Spans'</span>,\n",
       "                    <span style=\"color: #008000; text-decoration-color: #008000\">'price'</span>: <span style=\"color: #008000; text-decoration-color: #008000\">'4.99'</span>,\n",
       "                    <span style=\"color: #008000; text-decoration-color: #008000\">'in_stock'</span>: <span style=\"color: #00ff00; text-decoration-color: #00ff00; font-style: italic\">True</span>,\n",
       "                    <span style=\"color: #008000; text-decoration-color: #008000\">'body'</span>: <span style=\"color: #008000; text-decoration-color: #008000\">'Dan is the President. The United States Government has arrested </span>\n",
       "<span style=\"color: #008000; text-decoration-color: #008000\">him.'</span>,\n",
       "                    <span style=\"color: #008000; text-decoration-color: #008000\">'category'</span>: <span style=\"color: #008000; text-decoration-color: #008000\">'childrens'</span>,\n",
       "                    <span style=\"color: #008000; text-decoration-color: #008000\">'body_sentences'</span>: <span style=\"color: #008000; text-decoration-color: #008000\">'__SB__ Dan is the President. __SE__ __SB__ The United </span>\n",
       "<span style=\"color: #008000; text-decoration-color: #008000\">States Government has arrested him. __SE__'</span>,\n",
       "                    <span style=\"color: #008000; text-decoration-color: #008000\">'body_pos'</span>: <span style=\"color: #008000; text-decoration-color: #008000\">'Dan#__NNP__ is#__VBZ__ the#__DT__ President#__NNP__ .#__.__ </span>\n",
       "<span style=\"color: #008000; text-decoration-color: #008000\">The#__DT__ United#__NNP__ States#__NNPS__ Government#__NNP__ has#__VBZ__ arrested#__VBN__ </span>\n",
       "<span style=\"color: #008000; text-decoration-color: #008000\">him#__PRP__ .#__.__'</span>,\n",
       "                    <span style=\"color: #008000; text-decoration-color: #008000\">'body_ne'</span>: <span style=\"color: #008000; text-decoration-color: #008000\">'President Government '</span>\n",
       "                <span style=\"font-weight: bold\">}</span>\n",
       "            <span style=\"font-weight: bold\">}</span>\n",
       "        <span style=\"font-weight: bold\">]</span>\n",
       "    <span style=\"font-weight: bold\">}</span>\n",
       "<span style=\"font-weight: bold\">}</span>\n",
       "</pre>\n"
      ],
      "text/plain": [
       "\u001b[1m{\u001b[0m\n",
       "    \u001b[32m'took'\u001b[0m: \u001b[1;36m1\u001b[0m,\n",
       "    \u001b[32m'timed_out'\u001b[0m: \u001b[3;91mFalse\u001b[0m,\n",
       "    \u001b[32m'_shards'\u001b[0m: \u001b[1m{\u001b[0m\u001b[32m'total'\u001b[0m: \u001b[1;36m1\u001b[0m, \u001b[32m'successful'\u001b[0m: \u001b[1;36m1\u001b[0m, \u001b[32m'skipped'\u001b[0m: \u001b[1;36m0\u001b[0m, \u001b[32m'failed'\u001b[0m: \u001b[1;36m0\u001b[0m\u001b[1m}\u001b[0m,\n",
       "    \u001b[32m'hits'\u001b[0m: \u001b[1m{\u001b[0m\n",
       "        \u001b[32m'total'\u001b[0m: \u001b[1m{\u001b[0m\u001b[32m'value'\u001b[0m: \u001b[1;36m1\u001b[0m, \u001b[32m'relation'\u001b[0m: \u001b[32m'eq'\u001b[0m\u001b[1m}\u001b[0m,\n",
       "        \u001b[32m'max_score'\u001b[0m: \u001b[1;36m7.04297\u001b[0m,\n",
       "        \u001b[32m'hits'\u001b[0m: \u001b[1m[\u001b[0m\n",
       "            \u001b[1m{\u001b[0m\n",
       "                \u001b[32m'_index'\u001b[0m: \u001b[32m'searchml_week3'\u001b[0m,\n",
       "                \u001b[32m'_type'\u001b[0m: \u001b[32m'_doc'\u001b[0m,\n",
       "                \u001b[32m'_id'\u001b[0m: \u001b[32m'doc_f'\u001b[0m,\n",
       "                \u001b[32m'_score'\u001b[0m: \u001b[1;36m7.04297\u001b[0m,\n",
       "                \u001b[32m'_source'\u001b[0m: \u001b[1m{\u001b[0m\n",
       "                    \u001b[32m'id'\u001b[0m: \u001b[32m'doc_f'\u001b[0m,\n",
       "                    \u001b[32m'title'\u001b[0m: \u001b[32m'Fun with Spans'\u001b[0m,\n",
       "                    \u001b[32m'price'\u001b[0m: \u001b[32m'4.99'\u001b[0m,\n",
       "                    \u001b[32m'in_stock'\u001b[0m: \u001b[3;92mTrue\u001b[0m,\n",
       "                    \u001b[32m'body'\u001b[0m: \u001b[32m'Dan is the President. The United States Government has arrested \u001b[0m\n",
       "\u001b[32mhim.'\u001b[0m,\n",
       "                    \u001b[32m'category'\u001b[0m: \u001b[32m'childrens'\u001b[0m,\n",
       "                    \u001b[32m'body_sentences'\u001b[0m: \u001b[32m'__SB__ Dan is the President. __SE__ __SB__ The United \u001b[0m\n",
       "\u001b[32mStates Government has arrested him. __SE__'\u001b[0m,\n",
       "                    \u001b[32m'body_pos'\u001b[0m: \u001b[32m'Dan#__NNP__ is#__VBZ__ the#__DT__ President#__NNP__ .#__.__ \u001b[0m\n",
       "\u001b[32mThe#__DT__ United#__NNP__ States#__NNPS__ Government#__NNP__ has#__VBZ__ arrested#__VBN__ \u001b[0m\n",
       "\u001b[32mhim#__PRP__ .#__.__'\u001b[0m,\n",
       "                    \u001b[32m'body_ne'\u001b[0m: \u001b[32m'President Government '\u001b[0m\n",
       "                \u001b[1m}\u001b[0m\n",
       "            \u001b[1m}\u001b[0m\n",
       "        \u001b[1m]\u001b[0m\n",
       "    \u001b[1m}\u001b[0m\n",
       "\u001b[1m}\u001b[0m\n"
      ]
     },
     "metadata": {},
     "output_type": "display_data"
    },
    {
     "data": {
      "text/html": [
       "<pre style=\"white-space:pre;overflow-x:auto;line-height:normal;font-family:Menlo,'DejaVu Sans Mono',consolas,'Courier New',monospace\"><span style=\"font-weight: bold\">{</span>\n",
       "    <span style=\"color: #008000; text-decoration-color: #008000\">'took'</span>: <span style=\"color: #008080; text-decoration-color: #008080; font-weight: bold\">0</span>,\n",
       "    <span style=\"color: #008000; text-decoration-color: #008000\">'timed_out'</span>: <span style=\"color: #ff0000; text-decoration-color: #ff0000; font-style: italic\">False</span>,\n",
       "    <span style=\"color: #008000; text-decoration-color: #008000\">'_shards'</span>: <span style=\"font-weight: bold\">{</span><span style=\"color: #008000; text-decoration-color: #008000\">'total'</span>: <span style=\"color: #008080; text-decoration-color: #008080; font-weight: bold\">1</span>, <span style=\"color: #008000; text-decoration-color: #008000\">'successful'</span>: <span style=\"color: #008080; text-decoration-color: #008080; font-weight: bold\">1</span>, <span style=\"color: #008000; text-decoration-color: #008000\">'skipped'</span>: <span style=\"color: #008080; text-decoration-color: #008080; font-weight: bold\">0</span>, <span style=\"color: #008000; text-decoration-color: #008000\">'failed'</span>: <span style=\"color: #008080; text-decoration-color: #008080; font-weight: bold\">0</span><span style=\"font-weight: bold\">}</span>,\n",
       "    <span style=\"color: #008000; text-decoration-color: #008000\">'hits'</span>: <span style=\"font-weight: bold\">{</span><span style=\"color: #008000; text-decoration-color: #008000\">'total'</span>: <span style=\"font-weight: bold\">{</span><span style=\"color: #008000; text-decoration-color: #008000\">'value'</span>: <span style=\"color: #008080; text-decoration-color: #008080; font-weight: bold\">0</span>, <span style=\"color: #008000; text-decoration-color: #008000\">'relation'</span>: <span style=\"color: #008000; text-decoration-color: #008000\">'eq'</span><span style=\"font-weight: bold\">}</span>, <span style=\"color: #008000; text-decoration-color: #008000\">'max_score'</span>: <span style=\"color: #800080; text-decoration-color: #800080; font-style: italic\">None</span>, <span style=\"color: #008000; text-decoration-color: #008000\">'hits'</span>: <span style=\"font-weight: bold\">[]}</span>\n",
       "<span style=\"font-weight: bold\">}</span>\n",
       "</pre>\n"
      ],
      "text/plain": [
       "\u001b[1m{\u001b[0m\n",
       "    \u001b[32m'took'\u001b[0m: \u001b[1;36m0\u001b[0m,\n",
       "    \u001b[32m'timed_out'\u001b[0m: \u001b[3;91mFalse\u001b[0m,\n",
       "    \u001b[32m'_shards'\u001b[0m: \u001b[1m{\u001b[0m\u001b[32m'total'\u001b[0m: \u001b[1;36m1\u001b[0m, \u001b[32m'successful'\u001b[0m: \u001b[1;36m1\u001b[0m, \u001b[32m'skipped'\u001b[0m: \u001b[1;36m0\u001b[0m, \u001b[32m'failed'\u001b[0m: \u001b[1;36m0\u001b[0m\u001b[1m}\u001b[0m,\n",
       "    \u001b[32m'hits'\u001b[0m: \u001b[1m{\u001b[0m\u001b[32m'total'\u001b[0m: \u001b[1m{\u001b[0m\u001b[32m'value'\u001b[0m: \u001b[1;36m0\u001b[0m, \u001b[32m'relation'\u001b[0m: \u001b[32m'eq'\u001b[0m\u001b[1m}\u001b[0m, \u001b[32m'max_score'\u001b[0m: \u001b[3;35mNone\u001b[0m, \u001b[32m'hits'\u001b[0m: \u001b[1m[\u001b[0m\u001b[1m]\u001b[0m\u001b[1m}\u001b[0m\n",
       "\u001b[1m}\u001b[0m\n"
      ]
     },
     "metadata": {},
     "output_type": "display_data"
    }
   ],
   "source": [
    "\n",
    "# Sentence query.  going to use a new type of query called a SpanQuery\n",
    "q = \"President United States\"  # should return one match\n",
    "query = {\"size\": 5, \"query\": {\"query_string\": {\"query\": q, \"fields\": [\"body_pos\"]}}}\n",
    "rsp = client.search(body=query, index=index_name)\n",
    "rich.print(rsp)\n",
    "\n",
    "# Should return no match\n",
    "query = {\n",
    "    \"size\": 5,\n",
    "    \"query\": {\n",
    "        \"span_within\": {\n",
    "            \"little\": {\n",
    "                \"span_near\": {\n",
    "                    \"clauses\": [\n",
    "                        {\"span_term\": {\"body_sentences\": \"President\"}},\n",
    "                        {\"span_term\": {\"body_sentences\": \"United\"}},\n",
    "                        {\"span_term\": {\"body_sentences\": \"States\"}},\n",
    "                    ]\n",
    "                }\n",
    "            },\n",
    "            \"big\": {\n",
    "                \"span_near\": {\n",
    "                    \"clauses\": [\n",
    "                        {\"span_term\": {\"body_sentences\": \"__SB__\"}},\n",
    "                        {\"span_term\": {\"body_sentences\": \"__SE__\"}},\n",
    "                    ]\n",
    "                }\n",
    "            },\n",
    "        }\n",
    "    },\n",
    "}\n",
    "\n",
    "rsp = client.search(body=query, index=index_name)\n",
    "rich.print(rsp)"
   ]
  }
 ],
 "metadata": {
  "interpreter": {
   "hash": "26df649ccaabb3e088651436e95c10ce9770ac9f5e6ba35266fc22045cc9f233"
  },
  "jupytext": {
   "cell_metadata_filter": "-all",
   "main_language": "python",
   "notebook_metadata_filter": "-all"
  },
  "kernelspec": {
   "display_name": "Python 3.9.10 ('.venv': poetry)",
   "language": "python",
   "name": "python3"
  },
  "language_info": {
   "codemirror_mode": {
    "name": "ipython",
    "version": 3
   },
   "file_extension": ".py",
   "mimetype": "text/x-python",
   "name": "python",
   "nbconvert_exporter": "python",
   "pygments_lexer": "ipython3",
   "version": "3.9.10"
  }
 },
 "nbformat": 4,
 "nbformat_minor": 5
}
